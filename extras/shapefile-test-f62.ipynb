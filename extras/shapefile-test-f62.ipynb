{
 "cells": [
  {
   "cell_type": "code",
   "execution_count": null,
   "metadata": {},
   "outputs": [],
   "source": [
    "import os\n",
    "import sys\n",
    "import random\n",
    "import pathlib\n",
    "\n",
    "# processing\n",
    "import geojson\n",
    "import utm\n",
    "import pyproj\n",
    "import shapefile\n",
    "import shapely\n",
    "import shapely.ops\n",
    "import shapely.geometry\n",
    "\n",
    "# interactive/visualization\n",
    "import folium\n",
    "from tqdm.notebook import tqdm\n",
    "from IPython.display import display"
   ]
  },
  {
   "cell_type": "markdown",
   "metadata": {},
   "source": [
    "shapefile: `forestarea_2562.rar`\n",
    "\n",
    "contains the _entire_ country's forest regions, somehow condensed as 4 multipolygon records\n",
    "\n",
    "Using UTM Zone 47N projection instead of WGS84 (latlon)"
   ]
  },
  {
   "cell_type": "code",
   "execution_count": null,
   "metadata": {
    "tags": []
   },
   "outputs": [],
   "source": [
    "# read the shapefile\n",
    "# stole from https://gist.github.com/frankrowe/6071443\n",
    "\n",
    "# set path here\n",
    "SHAPEFILE_PATH=r\"D:\\forestarea_2562\\forestarea62_wgs84_z47.shp\"\n",
    "shpfile = str(pathlib.Path(SHAPEFILE_PATH).resolve())\n",
    "\n",
    "reader = shapefile.Reader(shpfile)\n",
    "fields = reader.fields[1:]\n",
    "field_names = [field[0] for field in fields]\n",
    "\n",
    "print(reader)"
   ]
  },
  {
   "cell_type": "code",
   "execution_count": null,
   "metadata": {},
   "outputs": [],
   "source": [
    "# for some fucking reason new shapefile contains 4 multipolygons\n",
    "# instead of flat collection of shapes\n",
    "# different processing required\n",
    "fshapes = []\n",
    "for shape in reader.shapes():\n",
    "    fshapes.append(shapely.geometry.shape(shape))\n"
   ]
  },
  {
   "cell_type": "code",
   "execution_count": null,
   "metadata": {
    "tags": []
   },
   "outputs": [],
   "source": [
    "total_shape = 0\n",
    "for f in fshapes:\n",
    "    flen = len(f)\n",
    "    total_shape += flen\n",
    "    print(flen)\n",
    "print(' '.join([\"total:\", str(total_shape)]))"
   ]
  },
  {
   "cell_type": "code",
   "execution_count": null,
   "metadata": {},
   "outputs": [],
   "source": [
    "# WGS84 latlng\n",
    "wgs84 = pyproj.Proj(init=\"epsg:4326\") \n",
    "# UTM 47N\n",
    "utm47n = pyproj.Proj(init=\"epsg:32647\") \n",
    "\n",
    "proj_latlng2utm = pyproj.Transformer.from_proj(wgs84, utm47n)\n",
    "proj_utm2latlng = pyproj.Transformer.from_proj(utm47n, wgs84)"
   ]
  },
  {
   "cell_type": "markdown",
   "metadata": {},
   "source": [
    "# _ป่าควนเคร็ง~~อยู่ไหนวะสัส~~ GET !!!_\n",
    "\n",
    "_ไม่ใช่ก็ใกล้เคียงละวะ_\n",
    "\n",
    "-----\n",
    "\n",
    "bounding box หยาบๆ\n",
    "\n",
    "    (1)----(2)\n",
    "     |      |\n",
    "    (5)     |\n",
    "      \\     |\n",
    "       (4)-(3)\n",
    "\n",
    "    latlon\n",
    "    1) 8.132766,99.977713\n",
    "    2) 8.129368,100.220099\n",
    "    3) 7.713491,100.225925\n",
    "    4) 7.716212,100.123490\n",
    "    5) 7.849215,100.044182"
   ]
  },
  {
   "cell_type": "code",
   "execution_count": null,
   "metadata": {
    "tags": []
   },
   "outputs": [],
   "source": [
    "# DO NOT FUCKING DO IT\n",
    "#allgon = shapely.ops.unary_union(fshapes)\n",
    "\n",
    "forest0 = fshapes[0]\n",
    "kuankreng = shapely.geometry.Polygon([\n",
    "    (99.977710,8.132766), (100.220099,8.129368),\n",
    "    (100.225925,7.713491), (100.123490,7.716212), (100.044182,7.849215)]\n",
    ")\n",
    "kuankreng_utm = shapely.ops.transform(proj_latlng2utm.transform, kuankreng)\n",
    "\n",
    "roi62 = []\n",
    "for shape in tqdm(forest0):\n",
    "    if kuankreng_utm.contains(shape):\n",
    "        roi62.append(shape)\n",
    "display(kuankreng_utm)\n"
   ]
  },
  {
   "cell_type": "code",
   "execution_count": null,
   "metadata": {},
   "outputs": [],
   "source": [
    "kuankreng62 = shapely.ops.unary_union(roi62)\n",
    "kuankreng62_wgs84 = shapely.ops.transform(proj_utm2latlng.transform, kuankreng62)\n",
    "display(kuankreng62)"
   ]
  },
  {
   "cell_type": "code",
   "execution_count": null,
   "metadata": {},
   "outputs": [],
   "source": [
    "smap = folium.Mapsmap = folium.Map(location=[7.89, 100.10], zoom_start=6, tiles=\"Stamen Terrain\")\n",
    "\n",
    "folium.GeoJson(kuankreng62_wgs84.__geo_interface__, name=\"kuankreng\").add_to(smap)\n",
    "\n",
    "kuankreng_geo = shapely.geometry.mapping(kuankreng)\n",
    "folium.GeoJson(kuankreng_geo, name=\"est. bbox\").add_to(smap)\n",
    "\n",
    "folium.TileLayer(tiles=\"cartodb positron\").add_to(smap)\n",
    "folium.LayerControl().add_to(smap)\n",
    "\n",
    "display(smap)"
   ]
  },
  {
   "cell_type": "code",
   "execution_count": null,
   "metadata": {
    "tags": []
   },
   "outputs": [],
   "source": [
    "with open(str(pathlib.Path(\"./kuankreng62.geojson\").resolve()), 'w') as k62f:\n",
    "    k62f.write(str(kuankreng62_wgs84.__geo_interface__))"
   ]
  },
  {
   "cell_type": "code",
   "execution_count": null,
   "metadata": {},
   "outputs": [],
   "source": []
  }
 ],
 "metadata": {
  "kernelspec": {
   "display_name": "Python 3.8.2 64-bit ('venv': venv)",
   "language": "python",
   "name": "python_defaultSpec_1598346915375"
  },
  "language_info": {
   "codemirror_mode": {
    "name": "ipython",
    "version": 3
   },
   "file_extension": ".py",
   "mimetype": "text/x-python",
   "name": "python",
   "nbconvert_exporter": "python",
   "pygments_lexer": "ipython3",
   "version": "3.8.2-final"
  }
 },
 "nbformat": 4,
 "nbformat_minor": 4
}