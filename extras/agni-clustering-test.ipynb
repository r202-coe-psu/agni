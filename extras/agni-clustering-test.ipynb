{
 "cells": [
  {
   "cell_type": "markdown",
   "metadata": {},
   "source": [
    "## refs\n",
    "- https://towardsdatascience.com/dbscan-algorithm-complete-guide-and-application-with-python-scikit-learn-d690cbae4c5d\n",
    "- https://hdbscan.readthedocs.io/en/latest/comparing_clustering_algorithms.html#\n",
    "- https://github.com/gboeing/2014-summer-travels/blob/master/clustering-scikitlearn.ipynb"
   ]
  },
  {
   "cell_type": "raw",
   "metadata": {},
   "source": [
    "!pip install scikit-learn shapely hdbscan"
   ]
  },
  {
   "cell_type": "code",
   "execution_count": null,
   "metadata": {},
   "outputs": [],
   "source": [
    "import json\n",
    "import time # unused?\n",
    "\n",
    "import numpy as np # +dep\n",
    "import pandas as pd # +dep\n",
    "import matplotlib.pyplot as plt # interactive notebook\n",
    "#import seaborn as sns # unused?\n",
    "import sklearn.cluster as cluster # +dep\n",
    "import hdbscan\n",
    "# mappings, interactive notebook\n",
    "#import cartopy\n",
    "import folium\n",
    "from shapely.geometry import MultiPoint # +optdep\n",
    "\n",
    "from pylab import rcParams # interactive notebook\n",
    "%matplotlib inline\n",
    "rcParams['figure.figsize'] = (14,10)\n",
    "\n",
    "#sns.set_context('poster')\n",
    "#sns.set_color_codes()\n",
    "plot_kwds = {'alpha' : 0.25, 's' : 80, 'linewidths':0}"
   ]
  },
  {
   "cell_type": "code",
   "execution_count": null,
   "metadata": {
    "scrolled": false
   },
   "outputs": [],
   "source": [
    "# raw NRT data\n",
    "import pathlib\n",
    "data = pd.read_csv(str(pathlib.Path(\"./hotspots_data_2019.csv\").resolve()))\n",
    "data.head()"
   ]
  },
  {
   "cell_type": "code",
   "execution_count": null,
   "metadata": {},
   "outputs": [],
   "source": [
    "# (our own) slightly processed data\n",
    "with open(\"./agni/nrt-20200618.json\", \"r\") as jf:\n",
    "    json_data = json.load(jf)\n",
    "jdf = pd.DataFrame(json_data) # can toss current list of dicts into it\n",
    "jdf.head()"
   ]
  },
  {
   "cell_type": "code",
   "execution_count": null,
   "metadata": {},
   "outputs": [],
   "source": [
    "used_data = data[data.acq_date == '2019-04-02']\n",
    "coords = used_data[['latitude', 'longitude']].to_numpy()\n",
    "display(used_data.head(), coords.shape)\n",
    "# haversine need radians\n",
    "RADIUS_KM = 0.375 * 1.5\n",
    "KMS_PER_RAD = 6371.0088\n",
    "eps = RADIUS_KM/KMS_PER_RAD"
   ]
  },
  {
   "cell_type": "code",
   "execution_count": null,
   "metadata": {},
   "outputs": [],
   "source": [
    "# the heart of clustering\n",
    "hdb = hdbscan.HDBSCAN(min_samples=3).fit(np.radians(coords))\n",
    "db = cluster.DBSCAN(eps=eps, min_samples=3, algorithm='ball_tree', metric='haversine').fit(np.radians(coords))\n",
    "# clustering results, noise is -1\n",
    "# .fit_predict(x) returns this\n",
    "cluster_labels = db.labels_\n",
    "display(cluster_labels)"
   ]
  },
  {
   "cell_type": "code",
   "execution_count": null,
   "metadata": {},
   "outputs": [],
   "source": [
    "# classifying point type for turfjs compat\n",
    "dbccol = pd.Series(cluster_labels)\n",
    "dbccol[db.core_sample_indices_] = 'core'\n",
    "dbccol[dbccol == -1] = 'noise'\n",
    "dbccol[dbccol.apply(lambda x: isinstance(x, int))] = 'edge'\n",
    "display(dbccol)"
   ]
  },
  {
   "cell_type": "code",
   "execution_count": null,
   "metadata": {},
   "outputs": [],
   "source": [
    "num_clusters = len(set(cluster_labels))-1\n",
    "clusters = pd.Series([coords[cluster_labels==n] for n in range(num_clusters)])\n",
    "clusters.head()"
   ]
  },
  {
   "cell_type": "code",
   "execution_count": null,
   "metadata": {},
   "outputs": [],
   "source": [
    "def get_centroid(cluster):\n",
    "    c = MultiPoint(cluster)\n",
    "    centroid = (c.centroid.x, c.centroid.y)\n",
    "    return tuple((*centroid, len(cluster))) # return: (x, y, count)\n",
    "\n",
    "centroids = clusters.map(get_centroid)"
   ]
  },
  {
   "cell_type": "code",
   "execution_count": null,
   "metadata": {},
   "outputs": [],
   "source": [
    "c_lats, c_lons, c_count = zip(*centroids)\n",
    "# list of cluster centroids along with count\n",
    "rs = pd.DataFrame({'latitude':c_lats, 'longitude':c_lons, 'count':c_count})\n",
    "r_lats, r_lons = zip(*coords)\n",
    "rs.tail()"
   ]
  },
  {
   "cell_type": "raw",
   "metadata": {},
   "source": [
    "ccrs = cartopy.crs\n",
    "\n",
    "fig, ax = plt.subplots(figsize=[10, 6], subplot_kw={'projection': ccrs.PlateCarree()})\n",
    "#ax = plt.axes(projection=ccrs.PlateCarree())\n",
    "#         x0: lon lo     x1: lon hi     y1: lat lo     y2: lat hi\n",
    "extent = (95.3758964376, 107.589038527, 3.69138418215, 22.4178496363)\n",
    "ax.set_extent(extent)\n",
    "#ax.stock_img()\n",
    "ax.coastlines()\n",
    "\n",
    "rs_scatter = ax.scatter(rs['longitude'], rs['latitude'], \n",
    "                        c='#ff9900', edgecolor='None', alpha=0.7, s=120, \n",
    "                       )\n",
    "df_scatter = ax.scatter(data['longitude'], data['latitude'], \n",
    "                        c='k', alpha=0.9, s=3, \n",
    "                       )\n",
    "#ax.plot(rs['longitude'].tolist(), rs['latitude'].tolist(), \n",
    "#        linestyle='', marker='o',\n",
    "#        #transform=ccrs.Mercator()\n",
    "#       )\n",
    "#ax.set_title('Full data set vs DBSCAN reduced set')\n",
    "#ax.set_xlabel('Longitude')\n",
    "#ax.set_ylabel('Latitude')\n",
    "#ax.legend([df_scatter, rs_scatter], ['Full set', 'Reduced set'], loc='upper right')\n",
    "plt.show()"
   ]
  },
  {
   "cell_type": "code",
   "execution_count": null,
   "metadata": {},
   "outputs": [],
   "source": [
    "import shapefile\n",
    "import geojson"
   ]
  },
  {
   "cell_type": "code",
   "execution_count": null,
   "metadata": {},
   "outputs": [],
   "source": [
    "lmap = folium.Map(location=[13, 100.8], zoom_start=6)\n",
    "\n",
    "for _, row in used_data.iterrows():\n",
    "    folium.CircleMarker(location=(row['latitude'], row['longitude']),\n",
    "                        radius=6\n",
    "                       ).add_to(lmap)\n",
    "\n",
    "for _, row in rs.iterrows():\n",
    "    folium.CircleMarker(location=(row['latitude'], row['longitude']),\n",
    "                        radius=6, fill_color='red', fill_opacity=1,\n",
    "                        popup=\"<b>count</b>: {}\".format(int(row['count']))\n",
    "                       ).add_to(lmap)\n",
    "\n",
    "lmap"
   ]
  },
  {
   "cell_type": "code",
   "execution_count": null,
   "metadata": {},
   "outputs": [],
   "source": []
  }
 ],
 "metadata": {
  "kernelspec": {
   "name": "Python 3.8.2 64-bit ('venv')",
   "display_name": "Python 3.8.2 64-bit ('venv')",
   "metadata": {
    "interpreter": {
     "hash": "029646ac843573b180fc34fb6baa073309351123922e4331454333857eb959b6"
    }
   }
  },
  "language_info": {
   "codemirror_mode": {
    "name": "ipython",
    "version": 3
   },
   "file_extension": ".py",
   "mimetype": "text/x-python",
   "name": "python",
   "nbconvert_exporter": "python",
   "pygments_lexer": "ipython3",
   "version": "3.8.2-final"
  }
 },
 "nbformat": 4,
 "nbformat_minor": 4
}