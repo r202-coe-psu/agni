{
 "cells": [
  {
   "cell_type": "code",
   "execution_count": null,
   "metadata": {},
   "outputs": [],
   "source": [
    "import os\n",
    "import sys\n",
    "import random\n",
    "import pathlib\n",
    "\n",
    "# processing\n",
    "import geojson\n",
    "import utm\n",
    "import shapefile\n",
    "import shapely\n",
    "import shapely.geometry\n",
    "\n",
    "# interactive/visualization\n",
    "import folium\n",
    "from tqdm.notebook import tqdm\n",
    "from IPython.display import display"
   ]
  },
  {
   "cell_type": "code",
   "execution_count": null,
   "metadata": {},
   "outputs": [],
   "source": [
    "def utm2lonlat(c):\n",
    "    # the shapefile coordinate system is UTM zone 47N (northern hemisphere)\n",
    "    lat, lon = utm.to_latlon(*c, 47, northern=True, strict=False)\n",
    "    return (lon, lat)"
   ]
  },
  {
   "cell_type": "markdown",
   "metadata": {},
   "source": [
    "shapefile: [shp-f60](http://www.forest.go.th/land/%e0%b8%a3%e0%b8%b2%e0%b8%a2%e0%b8%87%e0%b8%b2%e0%b8%99%e0%b9%82%e0%b8%84%e0%b8%a3%e0%b8%87%e0%b8%81%e0%b8%b2%e0%b8%a3%e0%b8%88%e0%b8%b1%e0%b8%94%e0%b8%97%e0%b8%b3%e0%b8%82%e0%b9%89%e0%b8%ad%e0%b8%a1-5/)\n",
    "\n",
    "contains the _entire_ country's forest regions"
   ]
  },
  {
   "cell_type": "code",
   "execution_count": null,
   "metadata": {},
   "outputs": [],
   "source": [
    "# read the shapefile\n",
    "# stole from https://gist.github.com/frankrowe/6071443\n",
    "\n",
    "# set path here\n",
    "SHAPEFILE_PATH='/mnt/ntfs/shp_f60/f60.shp'\n",
    "shpfile = str(pathlib.Path(SHAPEFILE_PATH).resolve())\n",
    "\n",
    "reader = shapefile.Reader(shpfile)\n",
    "fields = reader.fields[1:]\n",
    "field_names = [field[0] for field in fields]\n",
    "\n",
    "def process_sr(sr):\n",
    "    atr = dict(zip(field_names, sr.record))\n",
    "    geom = sr.shape.__geo_interface__\n",
    "    pointfix = geojson.utils.map_tuples(utm2lonlat, geom)\n",
    "    return dict(type=\"Feature\", geometry=pointfix, properties=atr)\n",
    "\n",
    "process_sr(reader.shapeRecord(29))"
   ]
  },
  {
   "cell_type": "code",
   "execution_count": null,
   "metadata": {
    "tags": []
   },
   "outputs": [],
   "source": [
    "buffer = []\n",
    "for srindex in tqdm(range(10000)):\n",
    "    sr = reader.shapeRecord(srindex)\n",
    "    buffer.append(process_sr(sr))"
   ]
  },
  {
   "cell_type": "code",
   "execution_count": null,
   "metadata": {},
   "outputs": [],
   "source": [
    "# skip\n",
    "#with open('f60.geojson', 'r') as f:\n",
    "#    f60 = geojson.load(f)"
   ]
  },
  {
   "cell_type": "code",
   "execution_count": null,
   "metadata": {},
   "outputs": [],
   "source": [
    "# also skip\n",
    "#f60_buffer = geojson.FeatureCollection(buffer)\n",
    "#with open('f60.geojson', 'w') as f:\n",
    "#    geojson.dump(f60_buffer, f)"
   ]
  },
  {
   "cell_type": "code",
   "execution_count": null,
   "metadata": {},
   "outputs": [],
   "source": [
    "def stylefunc(f):\n",
    "    lo = 50\n",
    "    hi = 255\n",
    "    r = random.randint(lo, hi)\n",
    "    g = random.randint(lo, hi)\n",
    "    b = random.randint(lo, hi)\n",
    "    fill_color = \"#{:02x}{:02x}{:02x}\".format(r,g,b)\n",
    "    return {\n",
    "        \"color\": fill_color,\n",
    "        \"fillColor\": fill_color\n",
    "    }\n",
    "\n",
    "stylefunc(None)"
   ]
  },
  {
   "cell_type": "markdown",
   "metadata": {},
   "source": [
    "# _ป่าควนเคร็ง~~อยู่ไหนวะสัส~~ GET !!!_\n",
    "\n",
    "_ไม่ใช่ก็ใกล้เคียงละวะ_\n",
    "\n",
    "-----\n",
    "\n",
    "bounding box หยาบๆ\n",
    "\n",
    "    (1)---(2)\n",
    "     |     |\n",
    "     |     |\n",
    "    (4)---(3)\n",
    "\n",
    "    latlon\n",
    "    1) 8.132766,99.977713\n",
    "    2) 8.129368,100.220099\n",
    "    3) 7.713491,100.225925\n",
    "    4) 7.715785,99.974589"
   ]
  },
  {
   "cell_type": "code",
   "execution_count": null,
   "metadata": {
    "tags": []
   },
   "outputs": [],
   "source": [
    "# (lon, lat) format!\n",
    "kuankreng = shapely.geometry.Polygon([\n",
    "    (99.977710,8.132766), (100.220099,8.129368),\n",
    "    (100.225925,7.713491), (99.974589,7.715785)])\n",
    "\n",
    "roi = []\n",
    "for forest in buffer:\n",
    "    fshape = shapely.geometry.shape(forest['geometry'])\n",
    "    if kuankreng.contains(fshape):\n",
    "        roi.append(forest)\n",
    "\n",
    "#roi_geojson = geojson.MultiPolygon(shp['geometry']['coordinates'] for shp in roi)\n",
    "roi_geojson = geojson.FeatureCollection(roi)\n",
    "with open('kuankreng.geojson', 'w') as gjfile:\n",
    "    geojson.dump(roi_geojson, gjfile)"
   ]
  },
  {
   "cell_type": "code",
   "execution_count": null,
   "metadata": {
    "scrolled": false,
    "tags": []
   },
   "outputs": [],
   "source": [
    "lmap = folium.Map(location=[7.89, 100.10], zoom_start=6, tiles=\"Stamen Terrain\")\n",
    "\n",
    "b_drawn = folium.FeatureGroup(name=\"geojson\")\n",
    "\n",
    "for b in tqdm(roi):\n",
    "    forest_shp = folium.GeoJson(b, \n",
    "                   tooltip=b['properties']['OBJECTID'],\n",
    "                   style_function=stylefunc\n",
    "                  )\n",
    "    #id_popup = folium.Popup(str(b['properties']['OBJECTID']), sticky=True)\n",
    "    #id_popup.add_to(forest_shp)\n",
    "    forest_shp.add_to(b_drawn)\n",
    "\n",
    "b_drawn.add_to(lmap)\n",
    "\n",
    "# DO NOT ATTEMPT TO DRAW IT RAW, YOU HAVE BEEN WARNED.\n",
    "#folium.GeoJson(f60, name='geojson_full', style_function=stylefunc).add_to(lmap)\n",
    "\n",
    "folium.GeoJson(roi_geojson, name=\"kuankreng\").add_to(lmap)\n",
    "\n",
    "kuankreng_geo = shapely.geometry.mapping(kuankreng)\n",
    "folium.GeoJson(kuankreng_geo, name=\"est. bbox\").add_to(lmap)\n",
    "\n",
    "folium.TileLayer(tiles=\"cartodb positron\").add_to(lmap)\n",
    "folium.LayerControl().add_to(lmap)\n",
    "\n",
    "ipdisp(lmap)"
   ]
  },
  {
   "cell_type": "code",
   "execution_count": null,
   "metadata": {
    "tags": []
   },
   "outputs": [],
   "source": [
    "with open(str(pathlib.Path('./kuankreng.geojson')), 'r') as gj:\n",
    "    kuankreng = geojson.load(gj)\n",
    "\n",
    "shp_features = kuankreng['features']\n",
    "shp_shapely = [ shapely.geometry.shape(f['geometry']).buffer(0) for f in shp_features ]\n",
    "\n",
    "shp_all = shapely.geometry.MultiPolygon(shp_shapely)\n",
    "display(shp_all)\n"
   ]
  },
  {
   "cell_type": "code",
   "execution_count": null,
   "metadata": {},
   "outputs": [],
   "source": []
  }
 ],
 "metadata": {
  "kernelspec": {
   "display_name": "Python 3.8.5 64-bit ('venv': venv)",
   "language": "python",
   "name": "python38564bitvenvvenv1c40c6ed6b3648ebaed8ca42723051d2"
  },
  "language_info": {
   "codemirror_mode": {
    "name": "ipython",
    "version": 3
   },
   "file_extension": ".py",
   "mimetype": "text/x-python",
   "name": "python",
   "nbconvert_exporter": "python",
   "pygments_lexer": "ipython3",
   "version": "3.8.5-final"
  }
 },
 "nbformat": 4,
 "nbformat_minor": 4
}