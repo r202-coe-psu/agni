{
 "cells": [
  {
   "cell_type": "markdown",
   "metadata": {},
   "source": [
    "## refs\n",
    "- https://towardsdatascience.com/dbscan-algorithm-complete-guide-and-application-with-python-scikit-learn-d690cbae4c5d\n",
    "- https://hdbscan.readthedocs.io/en/latest/comparing_clustering_algorithms.html#\n",
    "- https://github.com/gboeing/2014-summer-travels/blob/master/clustering-scikitlearn.ipynb"
   ]
  },
  {
   "cell_type": "raw",
   "metadata": {},
   "source": [
    "!pip install scikit-learn shapely hdbscan"
   ]
  },
  {
   "cell_type": "code",
   "execution_count": 1,
   "metadata": {
    "scrolled": false
   },
   "outputs": [],
   "source": [
    "import json\n",
    "import time # unused?\n",
    "import csv\n",
    "import seaborn as sns\n",
    "import numpy as np # +dep\n",
    "import pandas as pd # +dep\n",
    "import matplotlib.pyplot as plt # interactive notebook\n",
    "#import seaborn as sns # unused?\n",
    "import matplotlib as mpl\n",
    "# mappings, interactive notebook\n",
    "#import cartopy\n",
    "import folium"
   ]
  },
  {
   "cell_type": "code",
   "execution_count": 2,
   "metadata": {
    "scrolled": false
   },
   "outputs": [
    {
     "output_type": "execute_result",
     "data": {
      "text/plain": "    latitude   longitude  bright_ti4  scan  track    acq_date  acq_time  \\\n0  14.373807  100.632462      326.08  0.34   0.56  2019-01-01       557   \n1  14.378959  100.631424      341.67  0.34   0.56  2019-01-01       557   \n2  14.624126  102.694824      334.70  0.50   0.49  2019-01-01       557   \n3  14.395066  102.168671      328.69  0.54   0.51  2019-01-01       557   \n4  14.996263  104.727219      335.78  0.55   0.43  2019-01-01       557   \n\n  satellite instrument confidence  version  bright_ti5   frp  type  \n0         N      VIIRS          n        1      281.98  2.49     0  \n1         N      VIIRS          n        1      283.59  2.49     0  \n2         N      VIIRS          n        1      286.68  4.82     0  \n3         N      VIIRS          n        1      288.09  4.43     0  \n4         N      VIIRS          n        1      299.92  4.33     0  ",
      "text/html": "<div>\n<style scoped>\n    .dataframe tbody tr th:only-of-type {\n        vertical-align: middle;\n    }\n\n    .dataframe tbody tr th {\n        vertical-align: top;\n    }\n\n    .dataframe thead th {\n        text-align: right;\n    }\n</style>\n<table border=\"1\" class=\"dataframe\">\n  <thead>\n    <tr style=\"text-align: right;\">\n      <th></th>\n      <th>latitude</th>\n      <th>longitude</th>\n      <th>bright_ti4</th>\n      <th>scan</th>\n      <th>track</th>\n      <th>acq_date</th>\n      <th>acq_time</th>\n      <th>satellite</th>\n      <th>instrument</th>\n      <th>confidence</th>\n      <th>version</th>\n      <th>bright_ti5</th>\n      <th>frp</th>\n      <th>type</th>\n    </tr>\n  </thead>\n  <tbody>\n    <tr>\n      <th>0</th>\n      <td>14.373807</td>\n      <td>100.632462</td>\n      <td>326.08</td>\n      <td>0.34</td>\n      <td>0.56</td>\n      <td>2019-01-01</td>\n      <td>557</td>\n      <td>N</td>\n      <td>VIIRS</td>\n      <td>n</td>\n      <td>1</td>\n      <td>281.98</td>\n      <td>2.49</td>\n      <td>0</td>\n    </tr>\n    <tr>\n      <th>1</th>\n      <td>14.378959</td>\n      <td>100.631424</td>\n      <td>341.67</td>\n      <td>0.34</td>\n      <td>0.56</td>\n      <td>2019-01-01</td>\n      <td>557</td>\n      <td>N</td>\n      <td>VIIRS</td>\n      <td>n</td>\n      <td>1</td>\n      <td>283.59</td>\n      <td>2.49</td>\n      <td>0</td>\n    </tr>\n    <tr>\n      <th>2</th>\n      <td>14.624126</td>\n      <td>102.694824</td>\n      <td>334.70</td>\n      <td>0.50</td>\n      <td>0.49</td>\n      <td>2019-01-01</td>\n      <td>557</td>\n      <td>N</td>\n      <td>VIIRS</td>\n      <td>n</td>\n      <td>1</td>\n      <td>286.68</td>\n      <td>4.82</td>\n      <td>0</td>\n    </tr>\n    <tr>\n      <th>3</th>\n      <td>14.395066</td>\n      <td>102.168671</td>\n      <td>328.69</td>\n      <td>0.54</td>\n      <td>0.51</td>\n      <td>2019-01-01</td>\n      <td>557</td>\n      <td>N</td>\n      <td>VIIRS</td>\n      <td>n</td>\n      <td>1</td>\n      <td>288.09</td>\n      <td>4.43</td>\n      <td>0</td>\n    </tr>\n    <tr>\n      <th>4</th>\n      <td>14.996263</td>\n      <td>104.727219</td>\n      <td>335.78</td>\n      <td>0.55</td>\n      <td>0.43</td>\n      <td>2019-01-01</td>\n      <td>557</td>\n      <td>N</td>\n      <td>VIIRS</td>\n      <td>n</td>\n      <td>1</td>\n      <td>299.92</td>\n      <td>4.33</td>\n      <td>0</td>\n    </tr>\n  </tbody>\n</table>\n</div>"
     },
     "metadata": {},
     "execution_count": 2
    }
   ],
   "source": [
    "# raw NRT data\n",
    "import pathlib\n",
    "#data = pd.read_csv(str(pathlib.Path(\"/home/jkp/Documents/agni/extras/fire.csv\").resolve()))\n",
    "data_y2019 = pd.read_csv(str(pathlib.Path(\"./hotspots_data_2019.csv\").resolve()))\n",
    "#data = pd.read_csv(str(pathlib.Path(\"/home/jkp/Documents/agni/extras/hotspots_data_2019.csv\").resolve()))\n",
    "#data = pd.read_csv(str(pathlib.Path(\"/home/jkp/Documents/agni/extras/ARIMA-train-day1.csv\"...).resolve()))\n",
    "#data2 = pd.read_csv(str(pathlib.Path(\"/home/jkp/Documents/agni/extras/ARIMA-train-day2.csv\").resolve()))\n",
    "filtered_data = data_y2019[data_y2019.acq_date.str.contains('2019-03')].append(data_y2019[data_y2019.acq_date.str.contains('2019-04')])\n",
    "filtered_data.acq_date.unique()\n",
    "data_y2019.head()"
   ]
  },
  {
   "cell_type": "code",
   "execution_count": 3,
   "metadata": {
    "scrolled": false,
    "tags": []
   },
   "outputs": [
    {
     "output_type": "stream",
     "name": "stdout",
     "text": "[&#39;2019-03-01&#39; &#39;2019-03-02&#39; &#39;2019-03-03&#39; &#39;2019-03-04&#39; &#39;2019-03-05&#39;\n &#39;2019-03-06&#39; &#39;2019-03-07&#39; &#39;2019-03-08&#39; &#39;2019-03-09&#39; &#39;2019-03-10&#39;\n &#39;2019-03-11&#39; &#39;2019-03-12&#39; &#39;2019-03-13&#39; &#39;2019-03-14&#39; &#39;2019-03-15&#39;\n &#39;2019-03-16&#39; &#39;2019-03-17&#39; &#39;2019-03-18&#39; &#39;2019-03-19&#39; &#39;2019-03-20&#39;\n &#39;2019-03-21&#39; &#39;2019-03-22&#39; &#39;2019-03-23&#39; &#39;2019-03-24&#39; &#39;2019-03-25&#39;\n &#39;2019-03-26&#39; &#39;2019-03-27&#39; &#39;2019-03-28&#39; &#39;2019-03-29&#39; &#39;2019-03-30&#39;\n &#39;2019-03-31&#39; &#39;2019-04-01&#39; &#39;2019-04-02&#39; &#39;2019-04-03&#39; &#39;2019-04-04&#39;\n &#39;2019-04-05&#39; &#39;2019-04-06&#39; &#39;2019-04-07&#39; &#39;2019-04-08&#39; &#39;2019-04-09&#39;\n &#39;2019-04-10&#39; &#39;2019-04-11&#39; &#39;2019-04-12&#39; &#39;2019-04-13&#39; &#39;2019-04-14&#39;\n &#39;2019-04-15&#39; &#39;2019-04-16&#39; &#39;2019-04-17&#39; &#39;2019-04-18&#39; &#39;2019-04-19&#39;\n &#39;2019-04-20&#39; &#39;2019-04-21&#39; &#39;2019-04-22&#39; &#39;2019-04-23&#39; &#39;2019-04-24&#39;\n &#39;2019-04-25&#39; &#39;2019-04-26&#39; &#39;2019-04-27&#39; &#39;2019-04-28&#39; &#39;2019-04-29&#39;\n &#39;2019-04-30&#39;]\n"
    }
   ],
   "source": [
    "#april_data = pd.read_csv(str(pathlib.Path(\"/home/jkp/Documents/agni/extras/firem04-m05.csv\").resolve()))\n",
    "april_data = filtered_data\n",
    "april_data.head()\n",
    "unique_date = april_data.acq_date.unique()\n",
    "#unique_date = ['2019-04-01','2019-04-02']\n",
    "print(unique_date)"
   ]
  },
  {
   "source": [
    "## Fire Prediction Model V1: Simple spreading (as far as i understand):\n",
    "\n",
    "- make a grid over region of interest for prediction\n",
    "- take raw heat point, and then do spatial binning into cell of size  \n",
    "  (ideally 375m, as used in VIIRS data point radius)\n",
    "- depending on usage, the resulting grid either represents cell with fire, \n",
    "  or be marked as 'burned' (cannot burn any further)\n",
    "- 'spread' fire to neighboring 3x3 grid if it can (cell is not mark as burned)\n",
    "  - looks awfully like morphology dilate with 3x3 square kernel\n",
    "- mark the old 'fire' cell as 'burned', fire won't spread there."
   ],
   "cell_type": "markdown",
   "metadata": {}
  },
  {
   "cell_type": "code",
   "execution_count": 4,
   "metadata": {},
   "outputs": [],
   "source": [
    "# projection setup\n",
    "import utm\n",
    "import pyproj\n",
    "\n",
    "# perfome some project from latlon -> UTM 47N so I can do things in meters\n",
    "# force use of x, y (lon, lat) (east, north) order\n",
    "proj_latlon = pyproj.Proj('epsg:4326') # lat, lon\n",
    "proj_utm47n = pyproj.Proj('epsg:32647') # UTM 47N, as appeared in shapefiles\n",
    "\n",
    "utm47n_tf = UTM47N_TF = pyproj.Transformer.from_proj(proj_latlon, proj_utm47n, always_xy=True)\n",
    "lonlat_tf = LONLAT_TF = pyproj.Transformer.from_proj(proj_utm47n, proj_latlon, always_xy=True)"
   ]
  },
  {
   "cell_type": "code",
   "execution_count": 6,
   "metadata": {},
   "outputs": [],
   "source": [
    "# data setup\n",
    "_DAY = '2019-03-29'\n",
    "tdf = april_data.loc[april_data.acq_date == _DAY]\n",
    "\n",
    "# set up starting point on area sampling/prediction\n",
    "lat = 17.779913 \n",
    "lon = 97.715363\n",
    "lon_u, lat_u = utm47n_tf.transform(lon, lat)\n",
    "\n",
    "# prepare for spatial binnings, making bin edges\n",
    "step_size = 375\n",
    "step_count = 100 # EDGES\n",
    "lons_u = np.linspace(lon_u, lon_u + (step_size * step_count), step_count)\n",
    "lats_u = np.linspace(lat_u, lat_u + (step_size * step_count), step_count)"
   ]
  },
  {
   "cell_type": "code",
   "execution_count": 7,
   "metadata": {},
   "outputs": [],
   "source": [
    "def generate_firegrid(nrt_points, origin, step_size, step_count, utm=False):\n",
    "    \"\"\" generate firegrid from NRT data\n",
    "        also return edges used in binning\n",
    "    \"\"\"\n",
    "    if isinstance(nrt_points, pd.DataFrame):\n",
    "        nrt_df = nrt_points.copy()\n",
    "    else:\n",
    "        nrt_df = pd.DataFrame(nrt_points)\n",
    "    # set up starting point on area sampling/prediction\n",
    "\n",
    "    # LONGITUDE FIRST\n",
    "    lat, lon = origin\n",
    "\n",
    "    lon_u, lat_u = UTM47N_TF.transform(lon, lat)\n",
    "\n",
    "    # prepare for spatial binnings, making bin edges\n",
    "    lons_u = np.linspace(lon_u, lon_u + (step_size * step_count), step_count)\n",
    "    lats_u = np.linspace(lat_u, lat_u + (step_size * step_count), step_count)\n",
    "\n",
    "    # convert to UTM\n",
    "    if not utm:\n",
    "        nrt_df['longitude'], nrt_df['latitude'] = UTM47N_TF.transform(nrt_df.longitude.to_list(), nrt_df.latitude.to_list())\n",
    "\n",
    "    # actually binning, abuse histogram2d to count\n",
    "    count_u, lon_edge_u, lat_edge_u = np.histogram2d(x=nrt_df.longitude, y=nrt_df.latitude, bins=(lons_u, lats_u))\n",
    "    # filter only those with values\n",
    "    firegrid = (count_u.T > 0).astype(int)\n",
    "    edges = (lon_edge_u, lat_edge_u)\n",
    "\n",
    "    return firegrid, edges"
   ]
  },
  {
   "cell_type": "code",
   "execution_count": 13,
   "metadata": {
    "tags": []
   },
   "outputs": [
    {
     "output_type": "display_data",
     "data": {
      "text/plain": "(99, 99)"
     },
     "metadata": {}
    },
    {
     "output_type": "display_data",
     "data": {
      "text/plain": "&lt;Figure size 720x360 with 2 Axes&gt;",
      "image/svg+xml": "<?xml version=\"1.0\" encoding=\"utf-8\" standalone=\"no\"?>\n<!DOCTYPE svg PUBLIC \"-//W3C//DTD SVG 1.1//EN\"\n  \"http://www.w3.org/Graphics/SVG/1.1/DTD/svg11.dtd\">\n<!-- Created with matplotlib (https://matplotlib.org/) -->\n<svg height=\"284.714489pt\" version=\"1.1\" viewBox=\"0 0 592.125 284.714489\" width=\"592.125pt\" xmlns=\"http://www.w3.org/2000/svg\" xmlns:xlink=\"http://www.w3.org/1999/xlink\">\n <metadata>\n  <rdf:RDF xmlns:cc=\"http://creativecommons.org/ns#\" xmlns:dc=\"http://purl.org/dc/elements/1.1/\" xmlns:rdf=\"http://www.w3.org/1999/02/22-rdf-syntax-ns#\">\n   <cc:Work>\n    <dc:type rdf:resource=\"http://purl.org/dc/dcmitype/StillImage\"/>\n    <dc:date>2020-10-19T17:53:58.975185</dc:date>\n    <dc:format>image/svg+xml</dc:format>\n    <dc:creator>\n     <cc:Agent>\n      <dc:title>Matplotlib v3.3.0, https://matplotlib.org/</dc:title>\n     </cc:Agent>\n    </dc:creator>\n   </cc:Work>\n  </rdf:RDF>\n </metadata>\n <defs>\n  <style type=\"text/css\">*{stroke-linecap:butt;stroke-linejoin:round;}</style>\n </defs>\n <g id=\"figure_1\">\n  <g id=\"patch_1\">\n   <path d=\"M 0 284.714489 \nL 592.125 284.714489 \nL 592.125 0 \nL 0 0 \nz\n\" style=\"fill:none;\"/>\n  </g>\n  <g id=\"axes_1\">\n   <g id=\"patch_2\">\n    <path d=\"M 26.925 260.836364 \nL 280.561364 260.836364 \nL 280.561364 7.2 \nL 26.925 7.2 \nz\n\" style=\"fill:#ffffff;\"/>\n   </g>\n   <g clip-path=\"url(#p33cca6dd4c)\">\n    <image height=\"254\" id=\"image8977c292ad\" transform=\"scale(1 -1)translate(0 -254)\" width=\"254\" x=\"26.925\" xlink:href=\"data:image/png;base64,\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\" y=\"-6.836364\"/>\n   </g>\n   <g id=\"matplotlib.axis_1\">\n    <g id=\"xtick_1\">\n     <g id=\"line2d_1\">\n      <defs>\n       <path d=\"M 0 0 \nL 0 3.5 \n\" id=\"md800d16d9e\" style=\"stroke:#000000;stroke-width:0.8;\"/>\n      </defs>\n      <g>\n       <use style=\"stroke:#000000;stroke-width:0.8;\" x=\"28.205992\" xlink:href=\"#md800d16d9e\" y=\"260.836364\"/>\n      </g>\n     </g>\n     <g id=\"text_1\">\n      <!-- 0 -->\n      <g transform=\"translate(25.024742 275.434801)scale(0.1 -0.1)\">\n       <defs>\n        <path d=\"M 31.78125 66.40625 \nQ 24.171875 66.40625 20.328125 58.90625 \nQ 16.5 51.421875 16.5 36.375 \nQ 16.5 21.390625 20.328125 13.890625 \nQ 24.171875 6.390625 31.78125 6.390625 \nQ 39.453125 6.390625 43.28125 13.890625 \nQ 47.125 21.390625 47.125 36.375 \nQ 47.125 51.421875 43.28125 58.90625 \nQ 39.453125 66.40625 31.78125 66.40625 \nz\nM 31.78125 74.21875 \nQ 44.046875 74.21875 50.515625 64.515625 \nQ 56.984375 54.828125 56.984375 36.375 \nQ 56.984375 17.96875 50.515625 8.265625 \nQ 44.046875 -1.421875 31.78125 -1.421875 \nQ 19.53125 -1.421875 13.0625 8.265625 \nQ 6.59375 17.96875 6.59375 36.375 \nQ 6.59375 54.828125 13.0625 64.515625 \nQ 19.53125 74.21875 31.78125 74.21875 \nz\n\" id=\"DejaVuSans-48\"/>\n       </defs>\n       <use xlink:href=\"#DejaVuSans-48\"/>\n      </g>\n     </g>\n    </g>\n    <g id=\"xtick_2\">\n     <g id=\"line2d_2\">\n      <g>\n       <use style=\"stroke:#000000;stroke-width:0.8;\" x=\"79.445661\" xlink:href=\"#md800d16d9e\" y=\"260.836364\"/>\n      </g>\n     </g>\n     <g id=\"text_2\">\n      <!-- 20 -->\n      <g transform=\"translate(73.083161 275.434801)scale(0.1 -0.1)\">\n       <defs>\n        <path d=\"M 19.1875 8.296875 \nL 53.609375 8.296875 \nL 53.609375 0 \nL 7.328125 0 \nL 7.328125 8.296875 \nQ 12.9375 14.109375 22.625 23.890625 \nQ 32.328125 33.6875 34.8125 36.53125 \nQ 39.546875 41.84375 41.421875 45.53125 \nQ 43.3125 49.21875 43.3125 52.78125 \nQ 43.3125 58.59375 39.234375 62.25 \nQ 35.15625 65.921875 28.609375 65.921875 \nQ 23.96875 65.921875 18.8125 64.3125 \nQ 13.671875 62.703125 7.8125 59.421875 \nL 7.8125 69.390625 \nQ 13.765625 71.78125 18.9375 73 \nQ 24.125 74.21875 28.421875 74.21875 \nQ 39.75 74.21875 46.484375 68.546875 \nQ 53.21875 62.890625 53.21875 53.421875 \nQ 53.21875 48.921875 51.53125 44.890625 \nQ 49.859375 40.875 45.40625 35.40625 \nQ 44.1875 33.984375 37.640625 27.21875 \nQ 31.109375 20.453125 19.1875 8.296875 \nz\n\" id=\"DejaVuSans-50\"/>\n       </defs>\n       <use xlink:href=\"#DejaVuSans-50\"/>\n       <use x=\"63.623047\" xlink:href=\"#DejaVuSans-48\"/>\n      </g>\n     </g>\n    </g>\n    <g id=\"xtick_3\">\n     <g id=\"line2d_3\">\n      <g>\n       <use style=\"stroke:#000000;stroke-width:0.8;\" x=\"130.685331\" xlink:href=\"#md800d16d9e\" y=\"260.836364\"/>\n      </g>\n     </g>\n     <g id=\"text_3\">\n      <!-- 40 -->\n      <g transform=\"translate(124.322831 275.434801)scale(0.1 -0.1)\">\n       <defs>\n        <path d=\"M 37.796875 64.3125 \nL 12.890625 25.390625 \nL 37.796875 25.390625 \nz\nM 35.203125 72.90625 \nL 47.609375 72.90625 \nL 47.609375 25.390625 \nL 58.015625 25.390625 \nL 58.015625 17.1875 \nL 47.609375 17.1875 \nL 47.609375 0 \nL 37.796875 0 \nL 37.796875 17.1875 \nL 4.890625 17.1875 \nL 4.890625 26.703125 \nz\n\" id=\"DejaVuSans-52\"/>\n       </defs>\n       <use xlink:href=\"#DejaVuSans-52\"/>\n       <use x=\"63.623047\" xlink:href=\"#DejaVuSans-48\"/>\n      </g>\n     </g>\n    </g>\n    <g id=\"xtick_4\">\n     <g id=\"line2d_4\">\n      <g>\n       <use style=\"stroke:#000000;stroke-width:0.8;\" x=\"181.925\" xlink:href=\"#md800d16d9e\" y=\"260.836364\"/>\n      </g>\n     </g>\n     <g id=\"text_4\">\n      <!-- 60 -->\n      <g transform=\"translate(175.5625 275.434801)scale(0.1 -0.1)\">\n       <defs>\n        <path d=\"M 33.015625 40.375 \nQ 26.375 40.375 22.484375 35.828125 \nQ 18.609375 31.296875 18.609375 23.390625 \nQ 18.609375 15.53125 22.484375 10.953125 \nQ 26.375 6.390625 33.015625 6.390625 \nQ 39.65625 6.390625 43.53125 10.953125 \nQ 47.40625 15.53125 47.40625 23.390625 \nQ 47.40625 31.296875 43.53125 35.828125 \nQ 39.65625 40.375 33.015625 40.375 \nz\nM 52.59375 71.296875 \nL 52.59375 62.3125 \nQ 48.875 64.0625 45.09375 64.984375 \nQ 41.3125 65.921875 37.59375 65.921875 \nQ 27.828125 65.921875 22.671875 59.328125 \nQ 17.53125 52.734375 16.796875 39.40625 \nQ 19.671875 43.65625 24.015625 45.921875 \nQ 28.375 48.1875 33.59375 48.1875 \nQ 44.578125 48.1875 50.953125 41.515625 \nQ 57.328125 34.859375 57.328125 23.390625 \nQ 57.328125 12.15625 50.6875 5.359375 \nQ 44.046875 -1.421875 33.015625 -1.421875 \nQ 20.359375 -1.421875 13.671875 8.265625 \nQ 6.984375 17.96875 6.984375 36.375 \nQ 6.984375 53.65625 15.1875 63.9375 \nQ 23.390625 74.21875 37.203125 74.21875 \nQ 40.921875 74.21875 44.703125 73.484375 \nQ 48.484375 72.75 52.59375 71.296875 \nz\n\" id=\"DejaVuSans-54\"/>\n       </defs>\n       <use xlink:href=\"#DejaVuSans-54\"/>\n       <use x=\"63.623047\" xlink:href=\"#DejaVuSans-48\"/>\n      </g>\n     </g>\n    </g>\n    <g id=\"xtick_5\">\n     <g id=\"line2d_5\">\n      <g>\n       <use style=\"stroke:#000000;stroke-width:0.8;\" x=\"233.164669\" xlink:href=\"#md800d16d9e\" y=\"260.836364\"/>\n      </g>\n     </g>\n     <g id=\"text_5\">\n      <!-- 80 -->\n      <g transform=\"translate(226.802169 275.434801)scale(0.1 -0.1)\">\n       <defs>\n        <path d=\"M 31.78125 34.625 \nQ 24.75 34.625 20.71875 30.859375 \nQ 16.703125 27.09375 16.703125 20.515625 \nQ 16.703125 13.921875 20.71875 10.15625 \nQ 24.75 6.390625 31.78125 6.390625 \nQ 38.8125 6.390625 42.859375 10.171875 \nQ 46.921875 13.96875 46.921875 20.515625 \nQ 46.921875 27.09375 42.890625 30.859375 \nQ 38.875 34.625 31.78125 34.625 \nz\nM 21.921875 38.8125 \nQ 15.578125 40.375 12.03125 44.71875 \nQ 8.5 49.078125 8.5 55.328125 \nQ 8.5 64.0625 14.71875 69.140625 \nQ 20.953125 74.21875 31.78125 74.21875 \nQ 42.671875 74.21875 48.875 69.140625 \nQ 55.078125 64.0625 55.078125 55.328125 \nQ 55.078125 49.078125 51.53125 44.71875 \nQ 48 40.375 41.703125 38.8125 \nQ 48.828125 37.15625 52.796875 32.3125 \nQ 56.78125 27.484375 56.78125 20.515625 \nQ 56.78125 9.90625 50.3125 4.234375 \nQ 43.84375 -1.421875 31.78125 -1.421875 \nQ 19.734375 -1.421875 13.25 4.234375 \nQ 6.78125 9.90625 6.78125 20.515625 \nQ 6.78125 27.484375 10.78125 32.3125 \nQ 14.796875 37.15625 21.921875 38.8125 \nz\nM 18.3125 54.390625 \nQ 18.3125 48.734375 21.84375 45.5625 \nQ 25.390625 42.390625 31.78125 42.390625 \nQ 38.140625 42.390625 41.71875 45.5625 \nQ 45.3125 48.734375 45.3125 54.390625 \nQ 45.3125 60.0625 41.71875 63.234375 \nQ 38.140625 66.40625 31.78125 66.40625 \nQ 25.390625 66.40625 21.84375 63.234375 \nQ 18.3125 60.0625 18.3125 54.390625 \nz\n\" id=\"DejaVuSans-56\"/>\n       </defs>\n       <use xlink:href=\"#DejaVuSans-56\"/>\n       <use x=\"63.623047\" xlink:href=\"#DejaVuSans-48\"/>\n      </g>\n     </g>\n    </g>\n   </g>\n   <g id=\"matplotlib.axis_2\">\n    <g id=\"ytick_1\">\n     <g id=\"line2d_6\">\n      <defs>\n       <path d=\"M 0 0 \nL -3.5 0 \n\" id=\"mc803ede0ef\" style=\"stroke:#000000;stroke-width:0.8;\"/>\n      </defs>\n      <g>\n       <use style=\"stroke:#000000;stroke-width:0.8;\" x=\"26.925\" xlink:href=\"#mc803ede0ef\" y=\"259.555372\"/>\n      </g>\n     </g>\n     <g id=\"text_6\">\n      <!-- 0 -->\n      <g transform=\"translate(13.5625 263.354591)scale(0.1 -0.1)\">\n       <use xlink:href=\"#DejaVuSans-48\"/>\n      </g>\n     </g>\n    </g>\n    <g id=\"ytick_2\">\n     <g id=\"line2d_7\">\n      <g>\n       <use style=\"stroke:#000000;stroke-width:0.8;\" x=\"26.925\" xlink:href=\"#mc803ede0ef\" y=\"208.315702\"/>\n      </g>\n     </g>\n     <g id=\"text_7\">\n      <!-- 20 -->\n      <g transform=\"translate(7.2 212.114921)scale(0.1 -0.1)\">\n       <use xlink:href=\"#DejaVuSans-50\"/>\n       <use x=\"63.623047\" xlink:href=\"#DejaVuSans-48\"/>\n      </g>\n     </g>\n    </g>\n    <g id=\"ytick_3\">\n     <g id=\"line2d_8\">\n      <g>\n       <use style=\"stroke:#000000;stroke-width:0.8;\" x=\"26.925\" xlink:href=\"#mc803ede0ef\" y=\"157.076033\"/>\n      </g>\n     </g>\n     <g id=\"text_8\">\n      <!-- 40 -->\n      <g transform=\"translate(7.2 160.875252)scale(0.1 -0.1)\">\n       <use xlink:href=\"#DejaVuSans-52\"/>\n       <use x=\"63.623047\" xlink:href=\"#DejaVuSans-48\"/>\n      </g>\n     </g>\n    </g>\n    <g id=\"ytick_4\">\n     <g id=\"line2d_9\">\n      <g>\n       <use style=\"stroke:#000000;stroke-width:0.8;\" x=\"26.925\" xlink:href=\"#mc803ede0ef\" y=\"105.836364\"/>\n      </g>\n     </g>\n     <g id=\"text_9\">\n      <!-- 60 -->\n      <g transform=\"translate(7.2 109.635582)scale(0.1 -0.1)\">\n       <use xlink:href=\"#DejaVuSans-54\"/>\n       <use x=\"63.623047\" xlink:href=\"#DejaVuSans-48\"/>\n      </g>\n     </g>\n    </g>\n    <g id=\"ytick_5\">\n     <g id=\"line2d_10\">\n      <g>\n       <use style=\"stroke:#000000;stroke-width:0.8;\" x=\"26.925\" xlink:href=\"#mc803ede0ef\" y=\"54.596694\"/>\n      </g>\n     </g>\n     <g id=\"text_10\">\n      <!-- 80 -->\n      <g transform=\"translate(7.2 58.395913)scale(0.1 -0.1)\">\n       <use xlink:href=\"#DejaVuSans-56\"/>\n       <use x=\"63.623047\" xlink:href=\"#DejaVuSans-48\"/>\n      </g>\n     </g>\n    </g>\n   </g>\n   <g id=\"patch_3\">\n    <path d=\"M 26.925 260.836364 \nL 26.925 7.2 \n\" style=\"fill:none;stroke:#000000;stroke-linecap:square;stroke-linejoin:miter;stroke-width:0.8;\"/>\n   </g>\n   <g id=\"patch_4\">\n    <path d=\"M 280.561364 260.836364 \nL 280.561364 7.2 \n\" style=\"fill:none;stroke:#000000;stroke-linecap:square;stroke-linejoin:miter;stroke-width:0.8;\"/>\n   </g>\n   <g id=\"patch_5\">\n    <path d=\"M 26.925 260.836364 \nL 280.561364 260.836364 \n\" style=\"fill:none;stroke:#000000;stroke-linecap:square;stroke-linejoin:miter;stroke-width:0.8;\"/>\n   </g>\n   <g id=\"patch_6\">\n    <path d=\"M 26.925 7.2 \nL 280.561364 7.2 \n\" style=\"fill:none;stroke:#000000;stroke-linecap:square;stroke-linejoin:miter;stroke-width:0.8;\"/>\n   </g>\n  </g>\n  <g id=\"axes_2\">\n   <g id=\"patch_7\">\n    <path d=\"M 331.288636 260.836364 \nL 584.925 260.836364 \nL 584.925 7.2 \nL 331.288636 7.2 \nz\n\" style=\"fill:#ffffff;\"/>\n   </g>\n   <g clip-path=\"url(#p59e1184bf1)\">\n    <image height=\"254\" id=\"imagee52ff50f8b\" transform=\"scale(1 -1)translate(0 -254)\" width=\"254\" x=\"331.288636\" xlink:href=\"data:image/png;base64,\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\" y=\"-6.836364\"/>\n   </g>\n   <g id=\"matplotlib.axis_3\">\n    <g id=\"xtick_6\">\n     <g id=\"line2d_11\">\n      <g>\n       <use style=\"stroke:#000000;stroke-width:0.8;\" x=\"332.569628\" xlink:href=\"#md800d16d9e\" y=\"260.836364\"/>\n      </g>\n     </g>\n     <g id=\"text_11\">\n      <!-- 0 -->\n      <g transform=\"translate(329.388378 275.434801)scale(0.1 -0.1)\">\n       <use xlink:href=\"#DejaVuSans-48\"/>\n      </g>\n     </g>\n    </g>\n    <g id=\"xtick_7\">\n     <g id=\"line2d_12\">\n      <g>\n       <use style=\"stroke:#000000;stroke-width:0.8;\" x=\"383.809298\" xlink:href=\"#md800d16d9e\" y=\"260.836364\"/>\n      </g>\n     </g>\n     <g id=\"text_12\">\n      <!-- 20 -->\n      <g transform=\"translate(377.446798 275.434801)scale(0.1 -0.1)\">\n       <use xlink:href=\"#DejaVuSans-50\"/>\n       <use x=\"63.623047\" xlink:href=\"#DejaVuSans-48\"/>\n      </g>\n     </g>\n    </g>\n    <g id=\"xtick_8\">\n     <g id=\"line2d_13\">\n      <g>\n       <use style=\"stroke:#000000;stroke-width:0.8;\" x=\"435.048967\" xlink:href=\"#md800d16d9e\" y=\"260.836364\"/>\n      </g>\n     </g>\n     <g id=\"text_13\">\n      <!-- 40 -->\n      <g transform=\"translate(428.686467 275.434801)scale(0.1 -0.1)\">\n       <use xlink:href=\"#DejaVuSans-52\"/>\n       <use x=\"63.623047\" xlink:href=\"#DejaVuSans-48\"/>\n      </g>\n     </g>\n    </g>\n    <g id=\"xtick_9\">\n     <g id=\"line2d_14\">\n      <g>\n       <use style=\"stroke:#000000;stroke-width:0.8;\" x=\"486.288636\" xlink:href=\"#md800d16d9e\" y=\"260.836364\"/>\n      </g>\n     </g>\n     <g id=\"text_14\">\n      <!-- 60 -->\n      <g transform=\"translate(479.926136 275.434801)scale(0.1 -0.1)\">\n       <use xlink:href=\"#DejaVuSans-54\"/>\n       <use x=\"63.623047\" xlink:href=\"#DejaVuSans-48\"/>\n      </g>\n     </g>\n    </g>\n    <g id=\"xtick_10\">\n     <g id=\"line2d_15\">\n      <g>\n       <use style=\"stroke:#000000;stroke-width:0.8;\" x=\"537.528306\" xlink:href=\"#md800d16d9e\" y=\"260.836364\"/>\n      </g>\n     </g>\n     <g id=\"text_15\">\n      <!-- 80 -->\n      <g transform=\"translate(531.165806 275.434801)scale(0.1 -0.1)\">\n       <use xlink:href=\"#DejaVuSans-56\"/>\n       <use x=\"63.623047\" xlink:href=\"#DejaVuSans-48\"/>\n      </g>\n     </g>\n    </g>\n   </g>\n   <g id=\"matplotlib.axis_4\">\n    <g id=\"ytick_6\">\n     <g id=\"line2d_16\">\n      <g>\n       <use style=\"stroke:#000000;stroke-width:0.8;\" x=\"331.288636\" xlink:href=\"#mc803ede0ef\" y=\"259.555372\"/>\n      </g>\n     </g>\n     <g id=\"text_16\">\n      <!-- 0 -->\n      <g transform=\"translate(317.926136 263.354591)scale(0.1 -0.1)\">\n       <use xlink:href=\"#DejaVuSans-48\"/>\n      </g>\n     </g>\n    </g>\n    <g id=\"ytick_7\">\n     <g id=\"line2d_17\">\n      <g>\n       <use style=\"stroke:#000000;stroke-width:0.8;\" x=\"331.288636\" xlink:href=\"#mc803ede0ef\" y=\"208.315702\"/>\n      </g>\n     </g>\n     <g id=\"text_17\">\n      <!-- 20 -->\n      <g transform=\"translate(311.563636 212.114921)scale(0.1 -0.1)\">\n       <use xlink:href=\"#DejaVuSans-50\"/>\n       <use x=\"63.623047\" xlink:href=\"#DejaVuSans-48\"/>\n      </g>\n     </g>\n    </g>\n    <g id=\"ytick_8\">\n     <g id=\"line2d_18\">\n      <g>\n       <use style=\"stroke:#000000;stroke-width:0.8;\" x=\"331.288636\" xlink:href=\"#mc803ede0ef\" y=\"157.076033\"/>\n      </g>\n     </g>\n     <g id=\"text_18\">\n      <!-- 40 -->\n      <g transform=\"translate(311.563636 160.875252)scale(0.1 -0.1)\">\n       <use xlink:href=\"#DejaVuSans-52\"/>\n       <use x=\"63.623047\" xlink:href=\"#DejaVuSans-48\"/>\n      </g>\n     </g>\n    </g>\n    <g id=\"ytick_9\">\n     <g id=\"line2d_19\">\n      <g>\n       <use style=\"stroke:#000000;stroke-width:0.8;\" x=\"331.288636\" xlink:href=\"#mc803ede0ef\" y=\"105.836364\"/>\n      </g>\n     </g>\n     <g id=\"text_19\">\n      <!-- 60 -->\n      <g transform=\"translate(311.563636 109.635582)scale(0.1 -0.1)\">\n       <use xlink:href=\"#DejaVuSans-54\"/>\n       <use x=\"63.623047\" xlink:href=\"#DejaVuSans-48\"/>\n      </g>\n     </g>\n    </g>\n    <g id=\"ytick_10\">\n     <g id=\"line2d_20\">\n      <g>\n       <use style=\"stroke:#000000;stroke-width:0.8;\" x=\"331.288636\" xlink:href=\"#mc803ede0ef\" y=\"54.596694\"/>\n      </g>\n     </g>\n     <g id=\"text_20\">\n      <!-- 80 -->\n      <g transform=\"translate(311.563636 58.395913)scale(0.1 -0.1)\">\n       <use xlink:href=\"#DejaVuSans-56\"/>\n       <use x=\"63.623047\" xlink:href=\"#DejaVuSans-48\"/>\n      </g>\n     </g>\n    </g>\n   </g>\n   <g id=\"patch_8\">\n    <path d=\"M 331.288636 260.836364 \nL 331.288636 7.2 \n\" style=\"fill:none;stroke:#000000;stroke-linecap:square;stroke-linejoin:miter;stroke-width:0.8;\"/>\n   </g>\n   <g id=\"patch_9\">\n    <path d=\"M 584.925 260.836364 \nL 584.925 7.2 \n\" style=\"fill:none;stroke:#000000;stroke-linecap:square;stroke-linejoin:miter;stroke-width:0.8;\"/>\n   </g>\n   <g id=\"patch_10\">\n    <path d=\"M 331.288636 260.836364 \nL 584.925 260.836364 \n\" style=\"fill:none;stroke:#000000;stroke-linecap:square;stroke-linejoin:miter;stroke-width:0.8;\"/>\n   </g>\n   <g id=\"patch_11\">\n    <path d=\"M 331.288636 7.2 \nL 584.925 7.2 \n\" style=\"fill:none;stroke:#000000;stroke-linecap:square;stroke-linejoin:miter;stroke-width:0.8;\"/>\n   </g>\n  </g>\n </g>\n <defs>\n  <clipPath id=\"p33cca6dd4c\">\n   <rect height=\"253.636364\" width=\"253.636364\" x=\"26.925\" y=\"7.2\"/>\n  </clipPath>\n  <clipPath id=\"p59e1184bf1\">\n   <rect height=\"253.636364\" width=\"253.636364\" x=\"331.288636\" y=\"7.2\"/>\n  </clipPath>\n </defs>\n</svg>\n",
      "image/png": "[encoded data removed]"
     },
     "metadata": {
      "needs_background": "light"
     }
    }
   ],
   "source": [
    "# try grouping to grids\n",
    "# transform coordinate to UTM\n",
    "tdf_u = tdf.copy()\n",
    "tdf_u['longitude'], tdf_u['latitude'] = utm47n_tf.transform(tdf_u.longitude.to_list(), tdf_u.latitude.to_list())\n",
    "# do the binning, abuses `np.histogram2d` to count which cell has fire for us\n",
    "count_u, lon_edge_u, lat_edge_u = np.histogram2d(x=tdf_u.longitude, y=tdf_u.latitude, bins=(lons_u, lats_u))\n",
    "# only need existence not count\n",
    "firegrid_u = count_u.T > 0\n",
    "plt.figure(figsize=(10, 5))\n",
    "plt.subplot(1, 2, 1, aspect='equal')\n",
    "plt.imshow(firegrid_u, origin='lower')\n",
    "\n",
    "plt.subplot(1, 2, 2, aspect='equal')\n",
    "firegrid_f, edges = generate_firegrid(tdf, (lat, lon), 375, 100)\n",
    "plt.imshow(firegrid_f, origin='lower')\n",
    "\n",
    "display(firegrid_u.shape)"
   ]
  },
  {
   "cell_type": "code",
   "execution_count": null,
   "metadata": {},
   "outputs": [],
   "source": [
    "# reference implementation\n",
    "import math\n",
    "\n",
    "#กำหนดค่า\n",
    "pi = math.pi\n",
    "r_earth = 6371000.0 #m\n",
    "#กำหนดจุดแรกของ grid ที่จะวาดบนแผนที่\n",
    "lat = 17.779913 \n",
    "lon = 97.715363\n",
    "dy2 = 375\n",
    "dx2 = 375\n",
    "lat_step =  (dy2 / r_earth) * (180 / pi)\n",
    "lon_step =  (dx2 / r_earth) * (180 / pi) / math.cos(lat * pi/180)\n",
    "step_count = 100\n",
    "\n",
    "#แบ่ง lat lon ออกเป็น 100 ช่อง\n",
    "lons = np.linspace(lon, lon+(lon_step*step_count) ,step_count)\n",
    "lats = np.linspace(lat, lat+(lat_step*step_count) ,step_count)"
   ]
  },
  {
   "cell_type": "code",
   "execution_count": null,
   "metadata": {
    "tags": []
   },
   "outputs": [],
   "source": [
    "# same thing but operate on lat/lon directly\n",
    "# just for testing\n",
    "count, lon_edge, lat_edge = np.histogram2d(x=tdf.longitude, y=tdf.latitude, bins=(lons, lats))\n",
    "firegrid = count.T > 0\n",
    "plt.figure()\n",
    "plt.axis('equal')\n",
    "plt.imshow(firegrid, origin='lower')\n",
    "plt.colorbar()\n",
    "display(firegrid.shape)"
   ]
  },
  {
   "cell_type": "code",
   "execution_count": null,
   "metadata": {},
   "outputs": [],
   "source": [
    "# check discrepancy bc i'm very confused of differing grid sizes\n",
    "binedges = pd.DataFrame()\n",
    "ddf_dict = {'longitude': lons, 'latitude': lats, 'longitude_u': lons_u, 'latitude_u': lats_u}\n",
    "for k, v in ddf_dict.items():\n",
    "    binedges[k] = pd.Series(v)\n",
    "\n",
    "binedges['delta_lon'], binedges['delta_lat'] = lonlat_tf.transform(binedges.longitude_u.to_list(), binedges.latitude_u.to_list())\n",
    "binedges['delta_lon'] -= binedges['longitude']\n",
    "binedges['delta_lat'] -= binedges['latitude']\n",
    "\n",
    "display(binedges[['delta_lon', 'delta_lat']].max())\n",
    "display(binedges)"
   ]
  },
  {
   "cell_type": "markdown",
   "metadata": {},
   "source": [
    "count_results\\[วันที่ใน unique date\\]\\[แกน y\\]\\[แกน x\\]\n",
    "\n",
    "Ex. count_results\\[0\\] คือข้อมูลวันที่ unique_date\\[0\\] , '2019-03-01'"
   ]
  },
  {
   "cell_type": "code",
   "execution_count": 16,
   "metadata": {},
   "outputs": [
    {
     "output_type": "display_data",
     "data": {
      "text/plain": "&lt;Figure size 1080x360 with 3 Axes&gt;",
      "image/svg+xml": "<?xml version=\"1.0\" encoding=\"utf-8\" standalone=\"no\"?>\n<!DOCTYPE svg PUBLIC \"-//W3C//DTD SVG 1.1//EN\"\n  \"http://www.w3.org/Graphics/SVG/1.1/DTD/svg11.dtd\">\n<!-- Created with matplotlib (https://matplotlib.org/) -->\n<svg height=\"357.053125pt\" version=\"1.1\" viewBox=\"0 0 1072.9 357.053125\" width=\"1072.9pt\" xmlns=\"http://www.w3.org/2000/svg\" xmlns:xlink=\"http://www.w3.org/1999/xlink\">\n <metadata>\n  <rdf:RDF xmlns:cc=\"http://creativecommons.org/ns#\" xmlns:dc=\"http://purl.org/dc/elements/1.1/\" xmlns:rdf=\"http://www.w3.org/1999/02/22-rdf-syntax-ns#\">\n   <cc:Work>\n    <dc:type rdf:resource=\"http://purl.org/dc/dcmitype/StillImage\"/>\n    <dc:date>2020-10-19T17:54:11.618918</dc:date>\n    <dc:format>image/svg+xml</dc:format>\n    <dc:creator>\n     <cc:Agent>\n      <dc:title>Matplotlib v3.3.0, https://matplotlib.org/</dc:title>\n     </cc:Agent>\n    </dc:creator>\n   </cc:Work>\n  </rdf:RDF>\n </metadata>\n <defs>\n  <style type=\"text/css\">*{stroke-linecap:butt;stroke-linejoin:round;}</style>\n </defs>\n <g id=\"figure_1\">\n  <g id=\"patch_1\">\n   <path d=\"M 0 357.053125 \nL 1072.9 357.053125 \nL 1072.9 0 \nL 0 0 \nz\n\" style=\"fill:none;\"/>\n  </g>\n  <g id=\"axes_1\">\n   <g id=\"patch_2\">\n    <path d=\"M 26.925 333.175 \nL 352.9 333.175 \nL 352.9 7.2 \nL 26.925 7.2 \nz\n\" style=\"fill:#ffffff;\"/>\n   </g>\n   <g clip-path=\"url(#p7720dc8126)\">\n    <image height=\"326\" id=\"imagece35cc6ea0\" transform=\"scale(1 -1)translate(0 -326)\" width=\"326\" x=\"26.925\" xlink:href=\"data:image/png;base64,\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\" y=\"-7.175\"/>\n   </g>\n   <g id=\"matplotlib.axis_1\">\n    <g id=\"xtick_1\">\n     <g id=\"line2d_1\">\n      <defs>\n       <path d=\"M 0 0 \nL 0 3.5 \n\" id=\"mbd7135e9eb\" style=\"stroke:#000000;stroke-width:0.8;\"/>\n      </defs>\n      <g>\n       <use style=\"stroke:#000000;stroke-width:0.8;\" x=\"28.571338\" xlink:href=\"#mbd7135e9eb\" y=\"333.175\"/>\n      </g>\n     </g>\n     <g id=\"text_1\">\n      <!-- 0 -->\n      <g transform=\"translate(25.390088 347.773437)scale(0.1 -0.1)\">\n       <defs>\n        <path d=\"M 31.78125 66.40625 \nQ 24.171875 66.40625 20.328125 58.90625 \nQ 16.5 51.421875 16.5 36.375 \nQ 16.5 21.390625 20.328125 13.890625 \nQ 24.171875 6.390625 31.78125 6.390625 \nQ 39.453125 6.390625 43.28125 13.890625 \nQ 47.125 21.390625 47.125 36.375 \nQ 47.125 51.421875 43.28125 58.90625 \nQ 39.453125 66.40625 31.78125 66.40625 \nz\nM 31.78125 74.21875 \nQ 44.046875 74.21875 50.515625 64.515625 \nQ 56.984375 54.828125 56.984375 36.375 \nQ 56.984375 17.96875 50.515625 8.265625 \nQ 44.046875 -1.421875 31.78125 -1.421875 \nQ 19.53125 -1.421875 13.0625 8.265625 \nQ 6.59375 17.96875 6.59375 36.375 \nQ 6.59375 54.828125 13.0625 64.515625 \nQ 19.53125 74.21875 31.78125 74.21875 \nz\n\" id=\"DejaVuSans-48\"/>\n       </defs>\n       <use xlink:href=\"#DejaVuSans-48\"/>\n      </g>\n     </g>\n    </g>\n    <g id=\"xtick_2\">\n     <g id=\"line2d_2\">\n      <g>\n       <use style=\"stroke:#000000;stroke-width:0.8;\" x=\"94.424874\" xlink:href=\"#mbd7135e9eb\" y=\"333.175\"/>\n      </g>\n     </g>\n     <g id=\"text_2\">\n      <!-- 20 -->\n      <g transform=\"translate(88.062374 347.773437)scale(0.1 -0.1)\">\n       <defs>\n        <path d=\"M 19.1875 8.296875 \nL 53.609375 8.296875 \nL 53.609375 0 \nL 7.328125 0 \nL 7.328125 8.296875 \nQ 12.9375 14.109375 22.625 23.890625 \nQ 32.328125 33.6875 34.8125 36.53125 \nQ 39.546875 41.84375 41.421875 45.53125 \nQ 43.3125 49.21875 43.3125 52.78125 \nQ 43.3125 58.59375 39.234375 62.25 \nQ 35.15625 65.921875 28.609375 65.921875 \nQ 23.96875 65.921875 18.8125 64.3125 \nQ 13.671875 62.703125 7.8125 59.421875 \nL 7.8125 69.390625 \nQ 13.765625 71.78125 18.9375 73 \nQ 24.125 74.21875 28.421875 74.21875 \nQ 39.75 74.21875 46.484375 68.546875 \nQ 53.21875 62.890625 53.21875 53.421875 \nQ 53.21875 48.921875 51.53125 44.890625 \nQ 49.859375 40.875 45.40625 35.40625 \nQ 44.1875 33.984375 37.640625 27.21875 \nQ 31.109375 20.453125 19.1875 8.296875 \nz\n\" id=\"DejaVuSans-50\"/>\n       </defs>\n       <use xlink:href=\"#DejaVuSans-50\"/>\n       <use x=\"63.623047\" xlink:href=\"#DejaVuSans-48\"/>\n      </g>\n     </g>\n    </g>\n    <g id=\"xtick_3\">\n     <g id=\"line2d_3\">\n      <g>\n       <use style=\"stroke:#000000;stroke-width:0.8;\" x=\"160.278409\" xlink:href=\"#mbd7135e9eb\" y=\"333.175\"/>\n      </g>\n     </g>\n     <g id=\"text_3\">\n      <!-- 40 -->\n      <g transform=\"translate(153.915909 347.773437)scale(0.1 -0.1)\">\n       <defs>\n        <path d=\"M 37.796875 64.3125 \nL 12.890625 25.390625 \nL 37.796875 25.390625 \nz\nM 35.203125 72.90625 \nL 47.609375 72.90625 \nL 47.609375 25.390625 \nL 58.015625 25.390625 \nL 58.015625 17.1875 \nL 47.609375 17.1875 \nL 47.609375 0 \nL 37.796875 0 \nL 37.796875 17.1875 \nL 4.890625 17.1875 \nL 4.890625 26.703125 \nz\n\" id=\"DejaVuSans-52\"/>\n       </defs>\n       <use xlink:href=\"#DejaVuSans-52\"/>\n       <use x=\"63.623047\" xlink:href=\"#DejaVuSans-48\"/>\n      </g>\n     </g>\n    </g>\n    <g id=\"xtick_4\">\n     <g id=\"line2d_4\">\n      <g>\n       <use style=\"stroke:#000000;stroke-width:0.8;\" x=\"226.131944\" xlink:href=\"#mbd7135e9eb\" y=\"333.175\"/>\n      </g>\n     </g>\n     <g id=\"text_4\">\n      <!-- 60 -->\n      <g transform=\"translate(219.769444 347.773437)scale(0.1 -0.1)\">\n       <defs>\n        <path d=\"M 33.015625 40.375 \nQ 26.375 40.375 22.484375 35.828125 \nQ 18.609375 31.296875 18.609375 23.390625 \nQ 18.609375 15.53125 22.484375 10.953125 \nQ 26.375 6.390625 33.015625 6.390625 \nQ 39.65625 6.390625 43.53125 10.953125 \nQ 47.40625 15.53125 47.40625 23.390625 \nQ 47.40625 31.296875 43.53125 35.828125 \nQ 39.65625 40.375 33.015625 40.375 \nz\nM 52.59375 71.296875 \nL 52.59375 62.3125 \nQ 48.875 64.0625 45.09375 64.984375 \nQ 41.3125 65.921875 37.59375 65.921875 \nQ 27.828125 65.921875 22.671875 59.328125 \nQ 17.53125 52.734375 16.796875 39.40625 \nQ 19.671875 43.65625 24.015625 45.921875 \nQ 28.375 48.1875 33.59375 48.1875 \nQ 44.578125 48.1875 50.953125 41.515625 \nQ 57.328125 34.859375 57.328125 23.390625 \nQ 57.328125 12.15625 50.6875 5.359375 \nQ 44.046875 -1.421875 33.015625 -1.421875 \nQ 20.359375 -1.421875 13.671875 8.265625 \nQ 6.984375 17.96875 6.984375 36.375 \nQ 6.984375 53.65625 15.1875 63.9375 \nQ 23.390625 74.21875 37.203125 74.21875 \nQ 40.921875 74.21875 44.703125 73.484375 \nQ 48.484375 72.75 52.59375 71.296875 \nz\n\" id=\"DejaVuSans-54\"/>\n       </defs>\n       <use xlink:href=\"#DejaVuSans-54\"/>\n       <use x=\"63.623047\" xlink:href=\"#DejaVuSans-48\"/>\n      </g>\n     </g>\n    </g>\n    <g id=\"xtick_5\">\n     <g id=\"line2d_5\">\n      <g>\n       <use style=\"stroke:#000000;stroke-width:0.8;\" x=\"291.98548\" xlink:href=\"#mbd7135e9eb\" y=\"333.175\"/>\n      </g>\n     </g>\n     <g id=\"text_5\">\n      <!-- 80 -->\n      <g transform=\"translate(285.62298 347.773437)scale(0.1 -0.1)\">\n       <defs>\n        <path d=\"M 31.78125 34.625 \nQ 24.75 34.625 20.71875 30.859375 \nQ 16.703125 27.09375 16.703125 20.515625 \nQ 16.703125 13.921875 20.71875 10.15625 \nQ 24.75 6.390625 31.78125 6.390625 \nQ 38.8125 6.390625 42.859375 10.171875 \nQ 46.921875 13.96875 46.921875 20.515625 \nQ 46.921875 27.09375 42.890625 30.859375 \nQ 38.875 34.625 31.78125 34.625 \nz\nM 21.921875 38.8125 \nQ 15.578125 40.375 12.03125 44.71875 \nQ 8.5 49.078125 8.5 55.328125 \nQ 8.5 64.0625 14.71875 69.140625 \nQ 20.953125 74.21875 31.78125 74.21875 \nQ 42.671875 74.21875 48.875 69.140625 \nQ 55.078125 64.0625 55.078125 55.328125 \nQ 55.078125 49.078125 51.53125 44.71875 \nQ 48 40.375 41.703125 38.8125 \nQ 48.828125 37.15625 52.796875 32.3125 \nQ 56.78125 27.484375 56.78125 20.515625 \nQ 56.78125 9.90625 50.3125 4.234375 \nQ 43.84375 -1.421875 31.78125 -1.421875 \nQ 19.734375 -1.421875 13.25 4.234375 \nQ 6.78125 9.90625 6.78125 20.515625 \nQ 6.78125 27.484375 10.78125 32.3125 \nQ 14.796875 37.15625 21.921875 38.8125 \nz\nM 18.3125 54.390625 \nQ 18.3125 48.734375 21.84375 45.5625 \nQ 25.390625 42.390625 31.78125 42.390625 \nQ 38.140625 42.390625 41.71875 45.5625 \nQ 45.3125 48.734375 45.3125 54.390625 \nQ 45.3125 60.0625 41.71875 63.234375 \nQ 38.140625 66.40625 31.78125 66.40625 \nQ 25.390625 66.40625 21.84375 63.234375 \nQ 18.3125 60.0625 18.3125 54.390625 \nz\n\" id=\"DejaVuSans-56\"/>\n       </defs>\n       <use xlink:href=\"#DejaVuSans-56\"/>\n       <use x=\"63.623047\" xlink:href=\"#DejaVuSans-48\"/>\n      </g>\n     </g>\n    </g>\n   </g>\n   <g id=\"matplotlib.axis_2\">\n    <g id=\"ytick_1\">\n     <g id=\"line2d_6\">\n      <defs>\n       <path d=\"M 0 0 \nL -3.5 0 \n\" id=\"m7d63bf5bb2\" style=\"stroke:#000000;stroke-width:0.8;\"/>\n      </defs>\n      <g>\n       <use style=\"stroke:#000000;stroke-width:0.8;\" x=\"26.925\" xlink:href=\"#m7d63bf5bb2\" y=\"331.528662\"/>\n      </g>\n     </g>\n     <g id=\"text_6\">\n      <!-- 0 -->\n      <g transform=\"translate(13.5625 335.32788)scale(0.1 -0.1)\">\n       <use xlink:href=\"#DejaVuSans-48\"/>\n      </g>\n     </g>\n    </g>\n    <g id=\"ytick_2\">\n     <g id=\"line2d_7\">\n      <g>\n       <use style=\"stroke:#000000;stroke-width:0.8;\" x=\"26.925\" xlink:href=\"#m7d63bf5bb2\" y=\"265.675126\"/>\n      </g>\n     </g>\n     <g id=\"text_7\">\n      <!-- 20 -->\n      <g transform=\"translate(7.2 269.474345)scale(0.1 -0.1)\">\n       <use xlink:href=\"#DejaVuSans-50\"/>\n       <use x=\"63.623047\" xlink:href=\"#DejaVuSans-48\"/>\n      </g>\n     </g>\n    </g>\n    <g id=\"ytick_3\">\n     <g id=\"line2d_8\">\n      <g>\n       <use style=\"stroke:#000000;stroke-width:0.8;\" x=\"26.925\" xlink:href=\"#m7d63bf5bb2\" y=\"199.821591\"/>\n      </g>\n     </g>\n     <g id=\"text_8\">\n      <!-- 40 -->\n      <g transform=\"translate(7.2 203.62081)scale(0.1 -0.1)\">\n       <use xlink:href=\"#DejaVuSans-52\"/>\n       <use x=\"63.623047\" xlink:href=\"#DejaVuSans-48\"/>\n      </g>\n     </g>\n    </g>\n    <g id=\"ytick_4\">\n     <g id=\"line2d_9\">\n      <g>\n       <use style=\"stroke:#000000;stroke-width:0.8;\" x=\"26.925\" xlink:href=\"#m7d63bf5bb2\" y=\"133.968056\"/>\n      </g>\n     </g>\n     <g id=\"text_9\">\n      <!-- 60 -->\n      <g transform=\"translate(7.2 137.767274)scale(0.1 -0.1)\">\n       <use xlink:href=\"#DejaVuSans-54\"/>\n       <use x=\"63.623047\" xlink:href=\"#DejaVuSans-48\"/>\n      </g>\n     </g>\n    </g>\n    <g id=\"ytick_5\">\n     <g id=\"line2d_10\">\n      <g>\n       <use style=\"stroke:#000000;stroke-width:0.8;\" x=\"26.925\" xlink:href=\"#m7d63bf5bb2\" y=\"68.11452\"/>\n      </g>\n     </g>\n     <g id=\"text_10\">\n      <!-- 80 -->\n      <g transform=\"translate(7.2 71.913739)scale(0.1 -0.1)\">\n       <use xlink:href=\"#DejaVuSans-56\"/>\n       <use x=\"63.623047\" xlink:href=\"#DejaVuSans-48\"/>\n      </g>\n     </g>\n    </g>\n   </g>\n   <g id=\"patch_3\">\n    <path d=\"M 26.925 333.175 \nL 26.925 7.2 \n\" style=\"fill:none;stroke:#000000;stroke-linecap:square;stroke-linejoin:miter;stroke-width:0.8;\"/>\n   </g>\n   <g id=\"patch_4\">\n    <path d=\"M 352.9 333.175 \nL 352.9 7.2 \n\" style=\"fill:none;stroke:#000000;stroke-linecap:square;stroke-linejoin:miter;stroke-width:0.8;\"/>\n   </g>\n   <g id=\"patch_5\">\n    <path d=\"M 26.925 333.175 \nL 352.9 333.175 \n\" style=\"fill:none;stroke:#000000;stroke-linecap:square;stroke-linejoin:miter;stroke-width:0.8;\"/>\n   </g>\n   <g id=\"patch_6\">\n    <path d=\"M 26.925 7.2 \nL 352.9 7.2 \n\" style=\"fill:none;stroke:#000000;stroke-linecap:square;stroke-linejoin:miter;stroke-width:0.8;\"/>\n   </g>\n  </g>\n  <g id=\"axes_2\">\n   <g id=\"patch_7\">\n    <path d=\"M 383.325 333.175 \nL 709.3 333.175 \nL 709.3 7.2 \nL 383.325 7.2 \nz\n\" style=\"fill:#ffffff;\"/>\n   </g>\n   <g clip-path=\"url(#p539d002107)\">\n    <image height=\"326\" id=\"image901c63dac7\" transform=\"scale(1 -1)translate(0 -326)\" width=\"326\" x=\"383.325\" xlink:href=\"data:image/png;base64,\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\" y=\"-7.175\"/>\n   </g>\n   <g id=\"matplotlib.axis_3\">\n    <g id=\"xtick_6\">\n     <g id=\"line2d_11\">\n      <g>\n       <use style=\"stroke:#000000;stroke-width:0.8;\" x=\"384.971338\" xlink:href=\"#mbd7135e9eb\" y=\"333.175\"/>\n      </g>\n     </g>\n     <g id=\"text_11\">\n      <!-- 0 -->\n      <g transform=\"translate(381.790088 347.773437)scale(0.1 -0.1)\">\n       <use xlink:href=\"#DejaVuSans-48\"/>\n      </g>\n     </g>\n    </g>\n    <g id=\"xtick_7\">\n     <g id=\"line2d_12\">\n      <g>\n       <use style=\"stroke:#000000;stroke-width:0.8;\" x=\"450.824874\" xlink:href=\"#mbd7135e9eb\" y=\"333.175\"/>\n      </g>\n     </g>\n     <g id=\"text_12\">\n      <!-- 20 -->\n      <g transform=\"translate(444.462374 347.773437)scale(0.1 -0.1)\">\n       <use xlink:href=\"#DejaVuSans-50\"/>\n       <use x=\"63.623047\" xlink:href=\"#DejaVuSans-48\"/>\n      </g>\n     </g>\n    </g>\n    <g id=\"xtick_8\">\n     <g id=\"line2d_13\">\n      <g>\n       <use style=\"stroke:#000000;stroke-width:0.8;\" x=\"516.678409\" xlink:href=\"#mbd7135e9eb\" y=\"333.175\"/>\n      </g>\n     </g>\n     <g id=\"text_13\">\n      <!-- 40 -->\n      <g transform=\"translate(510.315909 347.773437)scale(0.1 -0.1)\">\n       <use xlink:href=\"#DejaVuSans-52\"/>\n       <use x=\"63.623047\" xlink:href=\"#DejaVuSans-48\"/>\n      </g>\n     </g>\n    </g>\n    <g id=\"xtick_9\">\n     <g id=\"line2d_14\">\n      <g>\n       <use style=\"stroke:#000000;stroke-width:0.8;\" x=\"582.531944\" xlink:href=\"#mbd7135e9eb\" y=\"333.175\"/>\n      </g>\n     </g>\n     <g id=\"text_14\">\n      <!-- 60 -->\n      <g transform=\"translate(576.169444 347.773437)scale(0.1 -0.1)\">\n       <use xlink:href=\"#DejaVuSans-54\"/>\n       <use x=\"63.623047\" xlink:href=\"#DejaVuSans-48\"/>\n      </g>\n     </g>\n    </g>\n    <g id=\"xtick_10\">\n     <g id=\"line2d_15\">\n      <g>\n       <use style=\"stroke:#000000;stroke-width:0.8;\" x=\"648.38548\" xlink:href=\"#mbd7135e9eb\" y=\"333.175\"/>\n      </g>\n     </g>\n     <g id=\"text_15\">\n      <!-- 80 -->\n      <g transform=\"translate(642.02298 347.773437)scale(0.1 -0.1)\">\n       <use xlink:href=\"#DejaVuSans-56\"/>\n       <use x=\"63.623047\" xlink:href=\"#DejaVuSans-48\"/>\n      </g>\n     </g>\n    </g>\n   </g>\n   <g id=\"matplotlib.axis_4\">\n    <g id=\"ytick_6\">\n     <g id=\"line2d_16\">\n      <g>\n       <use style=\"stroke:#000000;stroke-width:0.8;\" x=\"383.325\" xlink:href=\"#m7d63bf5bb2\" y=\"331.528662\"/>\n      </g>\n     </g>\n     <g id=\"text_16\">\n      <!-- 0 -->\n      <g transform=\"translate(369.9625 335.32788)scale(0.1 -0.1)\">\n       <use xlink:href=\"#DejaVuSans-48\"/>\n      </g>\n     </g>\n    </g>\n    <g id=\"ytick_7\">\n     <g id=\"line2d_17\">\n      <g>\n       <use style=\"stroke:#000000;stroke-width:0.8;\" x=\"383.325\" xlink:href=\"#m7d63bf5bb2\" y=\"265.675126\"/>\n      </g>\n     </g>\n     <g id=\"text_17\">\n      <!-- 20 -->\n      <g transform=\"translate(363.6 269.474345)scale(0.1 -0.1)\">\n       <use xlink:href=\"#DejaVuSans-50\"/>\n       <use x=\"63.623047\" xlink:href=\"#DejaVuSans-48\"/>\n      </g>\n     </g>\n    </g>\n    <g id=\"ytick_8\">\n     <g id=\"line2d_18\">\n      <g>\n       <use style=\"stroke:#000000;stroke-width:0.8;\" x=\"383.325\" xlink:href=\"#m7d63bf5bb2\" y=\"199.821591\"/>\n      </g>\n     </g>\n     <g id=\"text_18\">\n      <!-- 40 -->\n      <g transform=\"translate(363.6 203.62081)scale(0.1 -0.1)\">\n       <use xlink:href=\"#DejaVuSans-52\"/>\n       <use x=\"63.623047\" xlink:href=\"#DejaVuSans-48\"/>\n      </g>\n     </g>\n    </g>\n    <g id=\"ytick_9\">\n     <g id=\"line2d_19\">\n      <g>\n       <use style=\"stroke:#000000;stroke-width:0.8;\" x=\"383.325\" xlink:href=\"#m7d63bf5bb2\" y=\"133.968056\"/>\n      </g>\n     </g>\n     <g id=\"text_19\">\n      <!-- 60 -->\n      <g transform=\"translate(363.6 137.767274)scale(0.1 -0.1)\">\n       <use xlink:href=\"#DejaVuSans-54\"/>\n       <use x=\"63.623047\" xlink:href=\"#DejaVuSans-48\"/>\n      </g>\n     </g>\n    </g>\n    <g id=\"ytick_10\">\n     <g id=\"line2d_20\">\n      <g>\n       <use style=\"stroke:#000000;stroke-width:0.8;\" x=\"383.325\" xlink:href=\"#m7d63bf5bb2\" y=\"68.11452\"/>\n      </g>\n     </g>\n     <g id=\"text_20\">\n      <!-- 80 -->\n      <g transform=\"translate(363.6 71.913739)scale(0.1 -0.1)\">\n       <use xlink:href=\"#DejaVuSans-56\"/>\n       <use x=\"63.623047\" xlink:href=\"#DejaVuSans-48\"/>\n      </g>\n     </g>\n    </g>\n   </g>\n   <g id=\"patch_8\">\n    <path d=\"M 383.325 333.175 \nL 383.325 7.2 \n\" style=\"fill:none;stroke:#000000;stroke-linecap:square;stroke-linejoin:miter;stroke-width:0.8;\"/>\n   </g>\n   <g id=\"patch_9\">\n    <path d=\"M 709.3 333.175 \nL 709.3 7.2 \n\" style=\"fill:none;stroke:#000000;stroke-linecap:square;stroke-linejoin:miter;stroke-width:0.8;\"/>\n   </g>\n   <g id=\"patch_10\">\n    <path d=\"M 383.325 333.175 \nL 709.3 333.175 \n\" style=\"fill:none;stroke:#000000;stroke-linecap:square;stroke-linejoin:miter;stroke-width:0.8;\"/>\n   </g>\n   <g id=\"patch_11\">\n    <path d=\"M 383.325 7.2 \nL 709.3 7.2 \n\" style=\"fill:none;stroke:#000000;stroke-linecap:square;stroke-linejoin:miter;stroke-width:0.8;\"/>\n   </g>\n  </g>\n  <g id=\"axes_3\">\n   <g id=\"patch_12\">\n    <path d=\"M 739.725 333.175 \nL 1065.7 333.175 \nL 1065.7 7.2 \nL 739.725 7.2 \nz\n\" style=\"fill:#ffffff;\"/>\n   </g>\n   <g clip-path=\"url(#p07d5c8b28d)\">\n    <image height=\"326\" id=\"image1420b76436\" transform=\"scale(1 -1)translate(0 -326)\" width=\"326\" x=\"739.725\" xlink:href=\"data:image/png;base64,\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\" y=\"-7.175\"/>\n   </g>\n   <g id=\"matplotlib.axis_5\">\n    <g id=\"xtick_11\">\n     <g id=\"line2d_21\">\n      <g>\n       <use style=\"stroke:#000000;stroke-width:0.8;\" x=\"741.371338\" xlink:href=\"#mbd7135e9eb\" y=\"333.175\"/>\n      </g>\n     </g>\n     <g id=\"text_21\">\n      <!-- 0 -->\n      <g transform=\"translate(738.190088 347.773437)scale(0.1 -0.1)\">\n       <use xlink:href=\"#DejaVuSans-48\"/>\n      </g>\n     </g>\n    </g>\n    <g id=\"xtick_12\">\n     <g id=\"line2d_22\">\n      <g>\n       <use style=\"stroke:#000000;stroke-width:0.8;\" x=\"807.224874\" xlink:href=\"#mbd7135e9eb\" y=\"333.175\"/>\n      </g>\n     </g>\n     <g id=\"text_22\">\n      <!-- 20 -->\n      <g transform=\"translate(800.862374 347.773437)scale(0.1 -0.1)\">\n       <use xlink:href=\"#DejaVuSans-50\"/>\n       <use x=\"63.623047\" xlink:href=\"#DejaVuSans-48\"/>\n      </g>\n     </g>\n    </g>\n    <g id=\"xtick_13\">\n     <g id=\"line2d_23\">\n      <g>\n       <use style=\"stroke:#000000;stroke-width:0.8;\" x=\"873.078409\" xlink:href=\"#mbd7135e9eb\" y=\"333.175\"/>\n      </g>\n     </g>\n     <g id=\"text_23\">\n      <!-- 40 -->\n      <g transform=\"translate(866.715909 347.773437)scale(0.1 -0.1)\">\n       <use xlink:href=\"#DejaVuSans-52\"/>\n       <use x=\"63.623047\" xlink:href=\"#DejaVuSans-48\"/>\n      </g>\n     </g>\n    </g>\n    <g id=\"xtick_14\">\n     <g id=\"line2d_24\">\n      <g>\n       <use style=\"stroke:#000000;stroke-width:0.8;\" x=\"938.931944\" xlink:href=\"#mbd7135e9eb\" y=\"333.175\"/>\n      </g>\n     </g>\n     <g id=\"text_24\">\n      <!-- 60 -->\n      <g transform=\"translate(932.569444 347.773437)scale(0.1 -0.1)\">\n       <use xlink:href=\"#DejaVuSans-54\"/>\n       <use x=\"63.623047\" xlink:href=\"#DejaVuSans-48\"/>\n      </g>\n     </g>\n    </g>\n    <g id=\"xtick_15\">\n     <g id=\"line2d_25\">\n      <g>\n       <use style=\"stroke:#000000;stroke-width:0.8;\" x=\"1004.78548\" xlink:href=\"#mbd7135e9eb\" y=\"333.175\"/>\n      </g>\n     </g>\n     <g id=\"text_25\">\n      <!-- 80 -->\n      <g transform=\"translate(998.42298 347.773437)scale(0.1 -0.1)\">\n       <use xlink:href=\"#DejaVuSans-56\"/>\n       <use x=\"63.623047\" xlink:href=\"#DejaVuSans-48\"/>\n      </g>\n     </g>\n    </g>\n   </g>\n   <g id=\"matplotlib.axis_6\">\n    <g id=\"ytick_11\">\n     <g id=\"line2d_26\">\n      <g>\n       <use style=\"stroke:#000000;stroke-width:0.8;\" x=\"739.725\" xlink:href=\"#m7d63bf5bb2\" y=\"331.528662\"/>\n      </g>\n     </g>\n     <g id=\"text_26\">\n      <!-- 0 -->\n      <g transform=\"translate(726.3625 335.32788)scale(0.1 -0.1)\">\n       <use xlink:href=\"#DejaVuSans-48\"/>\n      </g>\n     </g>\n    </g>\n    <g id=\"ytick_12\">\n     <g id=\"line2d_27\">\n      <g>\n       <use style=\"stroke:#000000;stroke-width:0.8;\" x=\"739.725\" xlink:href=\"#m7d63bf5bb2\" y=\"265.675126\"/>\n      </g>\n     </g>\n     <g id=\"text_27\">\n      <!-- 20 -->\n      <g transform=\"translate(720 269.474345)scale(0.1 -0.1)\">\n       <use xlink:href=\"#DejaVuSans-50\"/>\n       <use x=\"63.623047\" xlink:href=\"#DejaVuSans-48\"/>\n      </g>\n     </g>\n    </g>\n    <g id=\"ytick_13\">\n     <g id=\"line2d_28\">\n      <g>\n       <use style=\"stroke:#000000;stroke-width:0.8;\" x=\"739.725\" xlink:href=\"#m7d63bf5bb2\" y=\"199.821591\"/>\n      </g>\n     </g>\n     <g id=\"text_28\">\n      <!-- 40 -->\n      <g transform=\"translate(720 203.62081)scale(0.1 -0.1)\">\n       <use xlink:href=\"#DejaVuSans-52\"/>\n       <use x=\"63.623047\" xlink:href=\"#DejaVuSans-48\"/>\n      </g>\n     </g>\n    </g>\n    <g id=\"ytick_14\">\n     <g id=\"line2d_29\">\n      <g>\n       <use style=\"stroke:#000000;stroke-width:0.8;\" x=\"739.725\" xlink:href=\"#m7d63bf5bb2\" y=\"133.968056\"/>\n      </g>\n     </g>\n     <g id=\"text_29\">\n      <!-- 60 -->\n      <g transform=\"translate(720 137.767274)scale(0.1 -0.1)\">\n       <use xlink:href=\"#DejaVuSans-54\"/>\n       <use x=\"63.623047\" xlink:href=\"#DejaVuSans-48\"/>\n      </g>\n     </g>\n    </g>\n    <g id=\"ytick_15\">\n     <g id=\"line2d_30\">\n      <g>\n       <use style=\"stroke:#000000;stroke-width:0.8;\" x=\"739.725\" xlink:href=\"#m7d63bf5bb2\" y=\"68.11452\"/>\n      </g>\n     </g>\n     <g id=\"text_30\">\n      <!-- 80 -->\n      <g transform=\"translate(720 71.913739)scale(0.1 -0.1)\">\n       <use xlink:href=\"#DejaVuSans-56\"/>\n       <use x=\"63.623047\" xlink:href=\"#DejaVuSans-48\"/>\n      </g>\n     </g>\n    </g>\n   </g>\n   <g id=\"patch_13\">\n    <path d=\"M 739.725 333.175 \nL 739.725 7.2 \n\" style=\"fill:none;stroke:#000000;stroke-linecap:square;stroke-linejoin:miter;stroke-width:0.8;\"/>\n   </g>\n   <g id=\"patch_14\">\n    <path d=\"M 1065.7 333.175 \nL 1065.7 7.2 \n\" style=\"fill:none;stroke:#000000;stroke-linecap:square;stroke-linejoin:miter;stroke-width:0.8;\"/>\n   </g>\n   <g id=\"patch_15\">\n    <path d=\"M 739.725 333.175 \nL 1065.7 333.175 \n\" style=\"fill:none;stroke:#000000;stroke-linecap:square;stroke-linejoin:miter;stroke-width:0.8;\"/>\n   </g>\n   <g id=\"patch_16\">\n    <path d=\"M 739.725 7.2 \nL 1065.7 7.2 \n\" style=\"fill:none;stroke:#000000;stroke-linecap:square;stroke-linejoin:miter;stroke-width:0.8;\"/>\n   </g>\n  </g>\n </g>\n <defs>\n  <clipPath id=\"p7720dc8126\">\n   <rect height=\"325.975\" width=\"325.975\" x=\"26.925\" y=\"7.2\"/>\n  </clipPath>\n  <clipPath id=\"p539d002107\">\n   <rect height=\"325.975\" width=\"325.975\" x=\"383.325\" y=\"7.2\"/>\n  </clipPath>\n  <clipPath id=\"p07d5c8b28d\">\n   <rect height=\"325.975\" width=\"325.975\" x=\"739.725\" y=\"7.2\"/>\n  </clipPath>\n </defs>\n</svg>\n",
      "image/png": "[encoded data removed]"
     },
     "metadata": {
      "needs_background": "light"
     }
    }
   ],
   "source": [
    "from scipy import ndimage\n",
    "# TBD\n",
    "# the 'spreading' looks awfully like morphology dilate with 3x3  kernel of ones\n",
    "# with zero hole at the middle\n",
    "z8_kernel = np.ones((3, 3))\n",
    "z8_kernel[1,1] = 0\n",
    "# generate next iteration\n",
    "firegrid_u_next = ndimage.binary_dilation(firegrid_u, structure=z8_kernel, border_value=0).astype(int)\n",
    "\n",
    "# for references only\n",
    "# enum gridstates {\n",
    "#   TREE = 0,\n",
    "#   FIRE = 1,\n",
    "#   BURNED = 2,\n",
    "# }\n",
    "\n",
    "plt.figure(figsize=(15, 5))\n",
    "plt.subplot(1, 3, 1, aspect='equal')\n",
    "#plt.pcolormesh(lon_edge_u, lat_edge_u, firegrid_u)\n",
    "plt.imshow(firegrid_u, origin='lower')\n",
    "#plt.colorbar()\n",
    "\n",
    "plt.subplot(1, 3, 2, aspect='equal')\n",
    "plt.imshow(firegrid_u_next, origin='lower')\n",
    "#plt.colorbar()\n",
    "\n",
    "plt.subplot(1, 3, 3, aspect='equal')\n",
    "# try to combine 2 grids together\n",
    "# the 'burned' cell will not burn further\n",
    "firegrid_u_comp = firegrid_u_next.copy()\n",
    "firegrid_u_comp[firegrid_u] = 2\n",
    "plt.imshow(firegrid_u_comp, origin='lower')\n",
    "\n",
    "plt.tight_layout()\n",
    "plt.show()"
   ]
  },
  {
   "cell_type": "code",
   "execution_count": null,
   "metadata": {},
   "outputs": [],
   "source": [
    "#ดูว่าไฟช่องไหนไหม้ไปแล้วบ้าง firstIDX วันแรก lastIDX วันสุดท้าย\n",
    "#reference grid type of this cell\n",
    "L_EMPTY, L_TREE, L_FIRE = 0, 1, 2\n",
    "area = count_results[32]\n",
    "def markEmptyArea(data,firstIDX,lastIDX):\n",
    "    empty_lands = np.ones((GRIDS,GRIDS))\n",
    "    for i in range(firstIDX,lastIDX):\n",
    "        print(i)\n",
    "        tmp = data[i]\n",
    "        for ix in range(1,nx-1):\n",
    "            for iy in range(1,ny-1):\n",
    "                #change old fire to empty lands\n",
    "                if tmp[iy,ix] == L_FIRE:\n",
    "                    empty_lands[iy,ix] = L_EMPTY\n",
    "    return empty_lands\n",
    "#มาร์คว่าไฟจะกระจายไปช่องไหนได้บ้าง\n",
    "def markFire(lands,fire):\n",
    "    for ix in range(1,nx-1):\n",
    "        for iy in range(1,ny-1):\n",
    "            #change old fire to empty lands\n",
    "            if fire[iy,ix] == L_FIRE:\n",
    "                lands[iy,ix] = L_FIRE\n",
    "    return lands\n",
    "#ส่งไปในฟังชันมารค์จุดที่เคยเกิดไฟ\n",
    "start_date = 21\n",
    "end_date = 35\n",
    "markedEmpty = markEmptyArea(count_results,start_date,end_date) #count results มี 61 วันเลือกมาร์คช่องที่เกิดไฟแล้วในวันที่ 21 ถึง 35\n",
    "#กระจายไฟออกรอบๆ\n",
    "markedFire = markFire(markedEmpty,count_results[35])"
   ]
  },
  {
   "cell_type": "code",
   "execution_count": null,
   "metadata": {},
   "outputs": [],
   "source": [
    "#กระจายไฟที่อาจจะมีในวัดถัดไป\n",
    "nextDayFire = iterate(markedFire)"
   ]
  },
  {
   "cell_type": "code",
   "execution_count": null,
   "metadata": {},
   "outputs": [],
   "source": [
    "import pyproj\n",
    "import math\n",
    "CELLTYPE = ['EMPTY', 'TREE', 'FIRE']\n",
    "GRIDS=100\n",
    "#source https://stackoverflow.com/questions/7477003/calculating-new-longitude-latitude-from-old-n-meters\n",
    "#กำหนดจุดศูนย์กลางของ grid แรก\n",
    "lat = 17.779913 \n",
    "lon =  97.715363\n",
    "\n",
    "pi = math.pi\n",
    "r_earth = 6371000.0 #m\n",
    "lmap = folium.Map(location=[lat, lon], zoom_start=15)\n",
    "dy2 = 350/2\n",
    "dx2 = 350/2\n",
    "step_lat =  (dy2 / r_earth) * (180 / pi)\n",
    "step_lon =  (dx2 / r_earth) * (180 / pi) / math.cos(lat * pi/180)\n",
    "\n",
    "#more grid\n",
    "target = nextDayFire\n",
    "start_lon = lon\n",
    "curr_lat = lat\n",
    "curr_lon  = start_lon\n",
    "draw_b1=0\n",
    "#to influx\n",
    "predict_points = []\n",
    "\n",
    "\n",
    "for ix in range(0,GRIDS):\n",
    "    draw_b2 = 0\n",
    "    for iy in range(0,GRIDS):\n",
    "        points = [(curr_lat-step_lat,curr_lon-step_lon),(curr_lat+step_lat,curr_lon+step_lon)]\n",
    "        #save data\n",
    "        if target[ix,iy] != TREE:\n",
    "            save_dict = {\n",
    "                    'latitude' : lat + step_lat*2*ix,\n",
    "                    'longitude' : lon + step_lon*2*iy,\n",
    "                    'base_date' : unique_date[end_date],\n",
    "                    'type': CELLTYPE[int(target[ix,iy])]\n",
    "            }\n",
    "            predict_points.append(save_dict)\n",
    "          \n",
    "    draw_b1+=1\n",
    "    curr_lat += step_lat*2\n",
    "    curr_lon = start_lon\n",
    "\n",
    "#plot data\n",
    "data = data_y2019[data_y2019.acq_date.str.contains('2019-04-06')]\n",
    "for _, row in data.iterrows():\n",
    "    folium.CircleMarker(location=(row['latitude'], row['longitude']),\n",
    "                        radius=6, fill_color='red', fill_opacity=1,\n",
    "                        popup=\"<b>lat</b>: {} <b>lon</b>: {}\".format(row['latitude'],row['longitude'])\n",
    "                        ).add_to(lmap)\n",
    "    points = [(row['latitude']-step_lat,row['longitude']-step_lon),(row['latitude']+step_lat,row['longitude']+step_lon)]\n",
    "    #folium.Rectangle(bounds=points,fill=False,color = 'red',weight=1).add_to(lmap)\n",
    "lmap"
   ]
  },
  {
   "cell_type": "code",
   "execution_count": null,
   "metadata": {},
   "outputs": [],
   "source": [
    "target = nextDayFire\n",
    "start_lon = lon\n",
    "curr_lat = lat\n",
    "curr_lon  = start_lon\n",
    "draw_b1=0\n",
    "for ix in range(0,GRIDS):\n",
    "    draw_b2 = 0\n",
    "    for iy in range(0,GRIDS):\n",
    "        points = [(curr_lat-step_lat,curr_lon-step_lon),(curr_lat+step_lat,curr_lon+step_lon)]\n",
    "        if target[ix,iy] == FIRE:\n",
    "            print('Fire',ix,iy)\n",
    "        elif target[ix,iy] == TREE:\n",
    "            opa = 0.5\n",
    "            #folium.Rectangle(bounds=points,fill=True,color = 'black',fill_color = 'green',fill_opacity=opa,weight=1).add_to(lmap)\n",
    "        \n",
    "        draw_b2+=1\n",
    "        curr_lon += step_lon*2\n",
    "        \n",
    "    draw_b1+=1\n",
    "    curr_lat += step_lat*2\n",
    "    curr_lon = start_lon"
   ]
  },
  {
   "cell_type": "code",
   "execution_count": null,
   "metadata": {},
   "outputs": [],
   "source": [
    "unique_date[end_date]"
   ]
  },
  {
   "cell_type": "code",
   "execution_count": null,
   "metadata": {},
   "outputs": [],
   "source": [
    "#source https://stackoverflow.com/questions/7477003/calculating-new-longitude-latitude-from-old-n-meters\n",
    "lat = 17.779913 \n",
    "lon = 97.715363\n",
    "\n",
    "pi = math.pi\n",
    "r_earth = 6371000.0 #m\n",
    "lmap = folium.Map(location=[lat, lon], zoom_start=15)\n",
    "dy2 = 350/2\n",
    "dx2 = 350/2\n",
    "step_lat =  (dy2 / r_earth) * (180 / pi)\n",
    "step_lon =  (dx2 / r_earth) * (180 / pi) / math.cos(lat * pi/180)\n",
    "\n",
    "#draw one grid\n",
    "points = [(lat-step_lat,lon-step_lon),(lat+step_lat,lon+step_lon)]\n",
    "folium.Rectangle(bounds=points,fill=True,color = 'red',fill_color = '#940091',fill_opacity=0,weight=1).add_to(lmap)\n",
    "\n",
    "#more grid\n",
    "target = test\n",
    "start_lon = lon\n",
    "curr_lat = lat\n",
    "curr_lon  = start_lon\n",
    "draw_b1=0\n",
    "GRIDS=100\n",
    "EMPTY, TREE, FIRE = 0, 1, 2\n",
    "for ix in range(0,GRIDS):\n",
    "    draw_b2 = 0\n",
    "    for iy in range(0,GRIDS):\n",
    "        points = [(curr_lat-step_lat,curr_lon-step_lon),(curr_lat+step_lat,curr_lon+step_lon)]\n",
    "        if target[ix,iy] == FIRE:\n",
    "            opa = 1\n",
    "            folium.Rectangle(bounds=points,fill=True,color = 'black',fill_color = 'red',fill_opacity=opa,weight=1).add_to(lmap)\n",
    "        elif target[ix,iy] == TREE:\n",
    "            opa = 0.5\n",
    "            folium.Rectangle(bounds=points,fill=True,color = 'black',fill_color = 'green',fill_opacity=opa,weight=1).add_to(lmap)\n",
    "        \n",
    "        draw_b2+=1\n",
    "        curr_lon += step_lon*2\n",
    "        \n",
    "    draw_b1+=1\n",
    "    curr_lat += step_lat*2\n",
    "    curr_lon = start_lon\n",
    "\n",
    "#plot data\n",
    "data = data_y2019[data_y2019.acq_date.str.contains('2019-03-30')]\n",
    "for _, row in data.iterrows():\n",
    "    folium.CircleMarker(location=(row['latitude'], row['longitude']),\n",
    "                        radius=6, fill_color='red', fill_opacity=1,\n",
    "                        popup=\"<b>lat</b>: {} <b>lon</b>: {}\".format(row['latitude'],row['longitude'])\n",
    "                        ).add_to(lmap)\n",
    "    points = [(row['latitude']-step_lat,row['longitude']-step_lon),(row['latitude']+step_lat,row['longitude']+step_lon)]\n",
    "    #folium.Rectangle(bounds=points,fill=False,color = 'red',weight=1).add_to(lmap)\n",
    "lmap"
   ]
  },
  {
   "cell_type": "code",
   "execution_count": null,
   "metadata": {},
   "outputs": [],
   "source": [
    "def iterate(X):\n",
    "    \"\"\"Iterate the forest according to the forest-fire rules.\"\"\"\n",
    "    # The boundary of the forest is always empty, so only consider cells\n",
    "    # indexed from 1 to nx-2, 1 to ny-2\n",
    "    EMPTY, TREE, FIRE = 0, 1, 2\n",
    "    neighbourhood = ((-1,-1), (-1,0), (-1,1), (0,-1), (0, 1), (1,-1), (1,0), (1,1))\n",
    "    nx, ny = 100, 100\n",
    "    \n",
    "    X1 = np.zeros((ny, nx))\n",
    "    for ix in range(1,nx-1):\n",
    "        for iy in range(1,ny-1):\n",
    "            if X[iy,ix] == FIRE:\n",
    "                X1[iy,ix] = EMPTY\n",
    "            if X[iy,ix] == TREE:\n",
    "                X1[iy,ix] = TREE\n",
    "                for dx,dy in neighbourhood:\n",
    "                    if X[iy+dy,ix+dx] == FIRE:\n",
    "                        X1[iy,ix] = FIRE\n",
    "                        break\n",
    "    return X1\n",
    "\n",
    "def forecastFire(old_hotspots,today_hotspots): #old_hotspots is hotspots each day in array [day1,day2,day3,...]\n",
    "    hotspot_grid = []\n",
    "    GRIDS = 101\n",
    "    lands = np.ones((GRIDS,GRIDS))\n",
    "    #loop to mark old hotspots as empty lands\n",
    "    for day in old_hotspots:\n",
    "        read_data = day\n",
    "        #loop each data row\n",
    "        for i,r in read_data.iterrows():\n",
    "            #loop data grid\n",
    "            for b1 in range(GRIDS):\n",
    "                if lats[b1] - (lat_step/2) <= r['latitude'] < lats[b1] + (lat_step/2):\n",
    "                    for b2 in range(GRIDS):\n",
    "                        if lons[b2] - (lon_step/2 ) <= r['longitude'] < lons[b2] + (lon_step/2):\n",
    "                            lands[b1,b2] = 0 # marks as empty land\n",
    "                            #hotspots_counts[b1,b2] += 1\n",
    "    #loop to mark today hotspots as fire\n",
    "    for i,r in today_hotspots.iterrows():\n",
    "            #loop data grid\n",
    "            for b1 in range(GRIDS):\n",
    "                if lats[b1] - (lat_step/2) <= r['latitude'] < lats[b1] + (lat_step/2):\n",
    "                    for b2 in range(GRIDS):\n",
    "                        if lons[b2] - (lon_step/2 ) <= r['longitude'] < lons[b2] + (lon_step/2):\n",
    "                            lands[b1,b2] = 2 # marks as empty fire\n",
    "    #append nearby fire risk\n",
    "    predict_fire = iterate(lands)\n",
    "    return predict_fire #101x101 array\n",
    "#test data\n",
    "day1 = april_data[april_data.acq_date.eq('2019-03-30')]\n",
    "day2 = april_data[april_data.acq_date.eq('2019-03-31')]\n",
    "day3 = april_data[april_data.acq_date.eq('2019-04-01')]\n",
    "test_old_data = [day1,day2,day3]\n",
    "test_today_data = april_data[april_data.acq_date.eq('2019-04-02')]\n",
    "#run\n",
    "test = forecastFire(test_old_data,test_today_data)"
   ]
  },
  {
   "cell_type": "code",
   "execution_count": null,
   "metadata": {},
   "outputs": [],
   "source": [
    "len(test)"
   ]
  },
  {
   "cell_type": "code",
   "execution_count": null,
   "metadata": {},
   "outputs": [],
   "source": [
    "unique_date[30]"
   ]
  },
  {
   "cell_type": "code",
   "execution_count": null,
   "metadata": {},
   "outputs": [],
   "source": [
    "def toDictOnlyFIREandEMPTY(dataGrid,date): #(101x101 array, date of data)\n",
    "    CELLTYPE = ['EMPTY', 'TREE', 'FIRE']\n",
    "    EMPTY, TREE, FIRE = 0, 1, 2\n",
    "    pi = math.pi\n",
    "    r_earth = 6371000.0 #m\n",
    "    #start lat lon of grid (bottom left)\n",
    "    lat = 17.779913 \n",
    "    lon =  97.715363\n",
    "    #grid distance\n",
    "    dy2 = 350/2\n",
    "    dx2 = 350/2\n",
    "    step_lat =  (dy2 / r_earth) * (180 / pi)\n",
    "    step_lon =  (dx2 / r_earth) * (180 / pi) / math.cos(lat * pi/180)\n",
    "    #\n",
    "    target = dataGrid\n",
    "    start_lon = lon\n",
    "    curr_lat = lat\n",
    "    curr_lon  = start_lon\n",
    "    draw_b1=0\n",
    "    #to influx\n",
    "    predict_points = []\n",
    "    for ix in range(0,GRIDS):\n",
    "        draw_b2 = 0\n",
    "        for iy in range(0,GRIDS):\n",
    "            points = [(curr_lat-step_lat,curr_lon-step_lon),(curr_lat+step_lat,curr_lon+step_lon)]\n",
    "            #save data\n",
    "            if target[ix,iy] != TREE:\n",
    "                save_dict = {\n",
    "                        'latitude' : lat + step_lat*2*ix,\n",
    "                        'longitude' : lon + step_lon*2*iy,\n",
    "                        'base_date' : date,\n",
    "                        'type': CELLTYPE[int(target[ix,iy])]\n",
    "                }\n",
    "                predict_points.append(save_dict)\n",
    "\n",
    "        draw_b1+=1\n",
    "        curr_lat += step_lat*2\n",
    "        curr_lon = start_lon\n",
    "    return predict_points #python dict only FIRE and EMPTY\n",
    "test_date = '2019-04-02'\n",
    "python_dict = toDictOnlyFIREandEMPTY(test,test_date)"
   ]
  }
 ],
 "metadata": {
  "kernelspec": {
   "name": "Python 3.8.6 64-bit ('venv')",
   "display_name": "Python 3.8.6 64-bit ('venv')",
   "metadata": {
    "interpreter": {
     "hash": "4dd02a41013135c3d11f70d9706b4dd18b936c0738c01f0463a8f45221b7b7c4"
    }
   }
  },
  "language_info": {
   "codemirror_mode": {
    "name": "ipython",
    "version": 3
   },
   "file_extension": ".py",
   "mimetype": "text/x-python",
   "name": "python",
   "nbconvert_exporter": "python",
   "pygments_lexer": "ipython3",
   "version": "3.8.6-final"
  }
 },
 "nbformat": 4,
 "nbformat_minor": 4
}